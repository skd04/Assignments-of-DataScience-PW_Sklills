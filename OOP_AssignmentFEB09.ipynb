{
 "cells": [
  {
   "cell_type": "markdown",
   "id": "9ac83ccf-c4fa-48d2-8831-943b4751d33c",
   "metadata": {},
   "source": [
    "## Q1, Create a vehicle class with an init method having instance variables as name_of_vehicle, max_speed and average_of_vehicle."
   ]
  },
  {
   "cell_type": "code",
   "execution_count": 16,
   "id": "8d2baec6-c947-4bcb-a619-89b2cbed2173",
   "metadata": {},
   "outputs": [],
   "source": [
    "class Vehicle :\n",
    "    \n",
    "    # Set Variables\n",
    "    def __init__(self, name_of_vehicle, max_seed, average_of_vehicle):\n",
    "        self.name_of_vehicle = name_of_vehicle\n",
    "        self.max_seed = max_seed\n",
    "        self.average_of_vehicle = average_of_vehicle"
   ]
  },
  {
   "cell_type": "markdown",
   "id": "66b3b6d9-f0c6-4adc-9b56-490e10427e0b",
   "metadata": {},
   "source": [
    "## Q2. Create a child class car from the vehicle class created in Que 1, which will inherit the vehicle class. Create a method named seating_capacity which takes capacity as an argument and returns the name of the vehicle and its seating capacity."
   ]
  },
  {
   "cell_type": "code",
   "execution_count": 25,
   "id": "f3a25a76-853f-4da2-ba78-70a9ffc79498",
   "metadata": {},
   "outputs": [
    {
     "name": "stdout",
     "output_type": "stream",
     "text": [
      "Toyota Innova is your car, and its seat capacity of your car 10.\n"
     ]
    }
   ],
   "source": [
    "class myCar(Vehicle) :\n",
    "    \n",
    "    # Descroption\n",
    "    def description(self):\n",
    "        desc = print(f\"{self.name_of_vehicle} is a wonderfull 4 wheeler, it maximum speed {self.max_seed} km/h and the mileage {self.average_of_vehicle} km/l.\")\n",
    "        return desc\n",
    "    \n",
    "    # Method Set seat\n",
    "    def seating_capacity(self, seats):\n",
    "        \"\"\" Give you car seat capacity \"\"\"\n",
    "        self.seats = seats\n",
    "        return_msg = print(f\"{self.name_of_vehicle} is your car, and its seat capacity of your car {self.seats}.\")\n",
    "        return \n",
    "    \n",
    "myCar = myCar(\"Toyota Innova\", 120, 50)\n",
    "myCar.seating_capacity(10)"
   ]
  },
  {
   "cell_type": "markdown",
   "id": "cac0ed54-6bcb-4790-aaf0-a9e1ca19b7d0",
   "metadata": {},
   "source": [
    "## Q3. What is multiple inheritance? Write a python code to demonstrate multiple inheritance."
   ]
  },
  {
   "cell_type": "markdown",
   "id": "822af26a-1c0a-4577-bc52-6a95568d4ca4",
   "metadata": {},
   "source": [
    "Multiple inheritance is an object-oriented programming concept where a class can inherit properties and behaviors from more than one parent class, allowing for code reuse and flexibility.\n",
    "\n",
    "##### Example:"
   ]
  },
  {
   "cell_type": "code",
   "execution_count": 1,
   "id": "043a95a7-a1c3-40dc-b11d-414bc1d24e50",
   "metadata": {},
   "outputs": [
    {
     "name": "stdout",
     "output_type": "stream",
     "text": [
      "Father : If you think you are bad, I'm your Dad.\n",
      "Mother : Make you smile, Mom's magic.\n"
     ]
    }
   ],
   "source": [
    "class Father:\n",
    "    \n",
    "    # Create first parent class\n",
    "    def show1(self):\n",
    "        showcase = print(\"Father : If you think you are bad, I'm your Dad.\")\n",
    "        return showcase\n",
    "\n",
    "class Mother:\n",
    "    \n",
    "    # Create second parent class\n",
    "    def show2(self):\n",
    "        showcase = print(\"Mother : Make you smile, Mom's magic.\")\n",
    "        return showcase\n",
    "    \n",
    "class Child(Father,Mother):\n",
    "    \n",
    "    # Create the last one the child class\n",
    "    pass\n",
    "    \n",
    "shankhadeep = Child()\n",
    "\n",
    "shankhadeep.show1()\n",
    "shankhadeep.show2()"
   ]
  },
  {
   "cell_type": "markdown",
   "id": "eebf5a6c-17c9-444d-a7c6-4f28deaf75f8",
   "metadata": {},
   "source": [
    "## Q4. What are getter and setter in python? Create a class and create a getter and a setter method in this class."
   ]
  },
  {
   "cell_type": "markdown",
   "id": "112a5221-1a1f-4d24-96e0-6a99a6ef0d52",
   "metadata": {},
   "source": [
    "Getter and setter are methods in OOP, where we can hide and modify data respectively. It is used for encapsulation to not provide direct access to a variable.\n",
    "Getters and Setters in python are often used when:\n",
    "\n",
    "- We use getters & setters to add validation logic around getting and setting a value.\n",
    "- To avoid direct access of a class field i.e. private variables cannot be accessed directly or modified by external user.\n",
    "\n",
    "##### Example :\n"
   ]
  },
  {
   "cell_type": "code",
   "execution_count": 15,
   "id": "4428f93c-74b2-4ddd-b8d7-8623d735c092",
   "metadata": {},
   "outputs": [],
   "source": [
    "class BeYou:\n",
    "    \n",
    "    # Make a Variable and encapsulate it.\n",
    "    def __init__(self, name, age):\n",
    "        self.name = name\n",
    "        self.__age = age\n",
    "    \n",
    "    def whoU(self):\n",
    "        return self.name\n",
    "    \n",
    "    def set_age(self, new_age):\n",
    "        self.__age = new_age\n",
    "        return \"Successfully updated !\"\n",
    "    \n",
    "    def get_age(self):\n",
    "        return self.__age \n",
    "\n",
    "Bio = BeYou(\" Shankhadeep \", 16)"
   ]
  },
  {
   "cell_type": "code",
   "execution_count": 16,
   "id": "f177a50a-3e14-4c8e-8ae5-72e3a8df2f74",
   "metadata": {},
   "outputs": [
    {
     "data": {
      "text/plain": [
       "' Shankhadeep '"
      ]
     },
     "execution_count": 16,
     "metadata": {},
     "output_type": "execute_result"
    }
   ],
   "source": [
    "Bio.whoU()"
   ]
  },
  {
   "cell_type": "code",
   "execution_count": 17,
   "id": "1ca78615-7210-4be8-bd9b-a966c14c8c20",
   "metadata": {},
   "outputs": [
    {
     "data": {
      "text/plain": [
       "16"
      ]
     },
     "execution_count": 17,
     "metadata": {},
     "output_type": "execute_result"
    }
   ],
   "source": [
    "Bio.get_age()"
   ]
  },
  {
   "cell_type": "code",
   "execution_count": 18,
   "id": "6d3eeda3-8a1e-4740-8891-bbcf9f4768aa",
   "metadata": {},
   "outputs": [
    {
     "data": {
      "text/plain": [
       "'Successfully updated !'"
      ]
     },
     "execution_count": 18,
     "metadata": {},
     "output_type": "execute_result"
    }
   ],
   "source": [
    "Bio.set_age(22)"
   ]
  },
  {
   "cell_type": "code",
   "execution_count": 19,
   "id": "a274c50e-d88a-4956-a7e8-dd98f2a3d1fe",
   "metadata": {},
   "outputs": [
    {
     "data": {
      "text/plain": [
       "22"
      ]
     },
     "execution_count": 19,
     "metadata": {},
     "output_type": "execute_result"
    }
   ],
   "source": [
    "Bio.get_age()"
   ]
  },
  {
   "cell_type": "markdown",
   "id": "12cabdc7-8c72-40c2-9afa-3c007e1d59f1",
   "metadata": {},
   "source": [
    "## Q5.What is method overriding in python? Write a python code to demonstrate method overriding."
   ]
  },
  {
   "cell_type": "markdown",
   "id": "02d3ac3d-6d3e-400d-a29f-5e50c6b81f5a",
   "metadata": {},
   "source": [
    "Method of Overriding is a concept in OOP, where you can implement method using child or sub class which already exist in parent class or super class. Basically it helps to provide a access to your subclass or childclass modify or update it.\n",
    "\n",
    "##### Demonstration :\n"
   ]
  },
  {
   "cell_type": "code",
   "execution_count": 15,
   "id": "ac0c4126-844a-4fa0-bb68-8fba07969cf3",
   "metadata": {},
   "outputs": [],
   "source": [
    "class EmployeeSalary:\n",
    "    \n",
    "    # Lets Calculate Salary\n",
    "    def __init__(self, name, basic_salary):\n",
    "        self.name = name\n",
    "        self.basic_salary = basic_salary\n",
    "    \n",
    "    # Calculate your Salary\n",
    "    def calculate_salary(self):\n",
    "        pass\n",
    "    \n",
    "    # Get your Basic\n",
    "    def get_basic_salary(self):\n",
    "        return self.basic_salary\n",
    "\n",
    "# Create a New Class\n",
    "class Manager(EmployeeSalary):\n",
    "    \n",
    "    # Lets Calculate Manager's Salary\n",
    "    def calculate_salary(self):\n",
    "        pf = 0.12 * self.basic_salary\n",
    "        esi = 0.03 * self.basic_salary\n",
    "        total_salary = self.basic_salary - pf - esi\n",
    "        self.basic_salary += total_salary\n",
    "        return total_salary\n",
    "    \n",
    "# Create a Make One more Employee\n",
    "class Programmer(EmployeeSalary):\n",
    "    \n",
    "    # Lets Calculate Programmer's Salary\n",
    "    def calculate_salary(self):\n",
    "        pf = 0.12 * self.basic_salary\n",
    "        esi = 0.03 * self.basic_salary\n",
    "        total_salary = self.basic_salary - pf - esi\n",
    "        self.basic_salary += total_salary\n",
    "        return total_salary\n",
    "    "
   ]
  },
  {
   "cell_type": "code",
   "execution_count": 18,
   "id": "1422776e-45bc-4edd-9840-f6297aa8d0e3",
   "metadata": {},
   "outputs": [
    {
     "name": "stdout",
     "output_type": "stream",
     "text": [
      "As a manager Shankhadeep's basics is Rs.40000 , after deducting PF-ESI Rs.34000 and as a programmer Sujit's basics is Rs.20000, after deducting PF-ESI Rs.17000\n"
     ]
    }
   ],
   "source": [
    "Shankhadeep = Manager(\"Shankhadeep\",40000)\n",
    "shankhadeep_basic_salary = Shankhadeep.get_basic_salary()\n",
    "shankhadeep_after_pfesi = Shankhadeep.calculate_salary()\n",
    "Sujit = Programmer(\"Sujit\", 20000)\n",
    "sujit_basic_salary = Sujit.get_basic_salary()\n",
    "sujit_after_pfesi = Sujit.calculate_salary()\n",
    "\n",
    "print(f\"As a manager {Shankhadeep.name}'s basics is Rs.{int(shankhadeep_basic_salary)} , after deducting PF-ESI Rs.{int(shankhadeep_after_pfesi)} and as a programmer {Sujit.name}'s basics is Rs.{int(sujit_basic_salary)}, after deducting PF-ESI Rs.{int(sujit_after_pfesi)}\")"
   ]
  },
  {
   "cell_type": "code",
   "execution_count": null,
   "id": "7e5a4d13-414a-4e31-9f84-24cd68554f5b",
   "metadata": {},
   "outputs": [],
   "source": []
  }
 ],
 "metadata": {
  "kernelspec": {
   "display_name": "Python 3 (ipykernel)",
   "language": "python",
   "name": "python3"
  },
  "language_info": {
   "codemirror_mode": {
    "name": "ipython",
    "version": 3
   },
   "file_extension": ".py",
   "mimetype": "text/x-python",
   "name": "python",
   "nbconvert_exporter": "python",
   "pygments_lexer": "ipython3",
   "version": "3.10.8"
  }
 },
 "nbformat": 4,
 "nbformat_minor": 5
}
