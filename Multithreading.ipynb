{
 "cells": [
  {
   "cell_type": "markdown",
   "id": "d871c584-e9ea-4bf5-b008-a9a583a4b66e",
   "metadata": {},
   "source": [
    "### Q1. What is multithreading in python? Why is it used? Name the module used to handle threads in python."
   ]
  },
  {
   "cell_type": "markdown",
   "id": "aa07ac8b-af9e-4974-8ef6-cd1af6811347",
   "metadata": {},
   "source": [
    "Multithreading in Python allows multiple processes to run simultaneously in a thread or on a core, increasing performance and responsiveness. It helps to improved performance.\n",
    "\n",
    "   It is used to run multiple tasks simultaneously, which can improve performance, responsiveness and utilization of multi-core processors.\n",
    "\n",
    "The module name is \"_threading_\" used to handle threads in python his module is built on top of the lower-level \"__thread_\"module and is more user-friendly for working with threads in Python."
   ]
  },
  {
   "cell_type": "markdown",
   "id": "53d84472-93f6-4ba8-a491-821a315c85bf",
   "metadata": {},
   "source": [
    "### Q2. Why threading module used? Write the use of the following functions:\n",
    "### 1. activeCount(), 2. currentThread(), 3. enumerate()\n"
   ]
  },
  {
   "cell_type": "markdown",
   "id": "2c5b3211-2e5b-4289-be70-38dad646da63",
   "metadata": {},
   "source": [
    "The threading module in Python is like a toolbox that helps you work with threads, which are like mini-programs that can run at the same time. It makes it easier to create, control, and coordinate these mini-programs so they can work together effectively."
   ]
  },
  {
   "cell_type": "markdown",
   "id": "3e39ea31-8ea5-4285-aef2-ebf367ea38ac",
   "metadata": {},
   "source": [
    "#### 1. activeCount() : \n",
    "    This function returns an integer which represent the count of active threads.\n",
    "##### Example :"
   ]
  },
  {
   "cell_type": "code",
   "execution_count": 2,
   "id": "46e7f34e-8e7c-45b9-9e9a-27f637927bdd",
   "metadata": {},
   "outputs": [],
   "source": [
    "\n",
    "logging.basicConfig(filename=\"question2.log\", level=logging.INFO, format = \"%(asctime)s %(message)s\")"
   ]
  },
  {
   "cell_type": "code",
   "execution_count": 3,
   "id": "d1471d78-b088-410a-ab98-6bb808696b93",
   "metadata": {},
   "outputs": [
    {
     "name": "stdout",
     "output_type": "stream",
     "text": [
      "9 number of threads a active.\n"
     ]
    }
   ],
   "source": [
    "def testing_activeCount():\n",
    "    # This message showing : \"/tmp/ipykernel_133/587422583.py:2: DeprecationWarning: activeCount() is deprecated, use active_count() instead print(f\"{threading.activeCount()} number of threads a active.\")\" so I use this function.\n",
    "    print(f\"{threading.active_count()} number of threads a active.\")\n",
    "    logging.info(f\"{threading.active_count()} number of threads a active.\")\n",
    "var = threading.Thread(target=testing_activeCount)\n",
    "\n",
    "var.start()"
   ]
  },
  {
   "cell_type": "markdown",
   "id": "34bbf4ad-07d8-4053-b1c7-772b23d787e9",
   "metadata": {},
   "source": [
    "#### 2. currentThread() : \n",
    "    This function useful for identifying the in which the code is currently running.\n",
    "##### Example :"
   ]
  },
  {
   "cell_type": "code",
   "execution_count": 4,
   "id": "9f4010fe-6428-4b97-962e-14a0f68b7ca3",
   "metadata": {},
   "outputs": [
    {
     "name": "stdout",
     "output_type": "stream",
     "text": [
      "You are now in Thread-6 (testing_currentThread).\n"
     ]
    }
   ],
   "source": [
    "def testing_currentThread():\n",
    "    \n",
    "    # This message showing : \"DeprecationWarning: currentThread() is deprecated, use current_thread() instead  test = threading.currentThread()\" so I use this function.\n",
    "    test = threading.current_thread()\n",
    "    print(f\"You are now in {test.name}.\") \n",
    "    logging.info(f\"You are now in {test.name}.\") \n",
    "    \n",
    "var2 = threading.Thread(target=testing_currentThread)\n",
    "\n",
    "var2.start()"
   ]
  },
  {
   "cell_type": "markdown",
   "id": "3d2fd218-5bcd-4803-a0c6-8a93cc937260",
   "metadata": {},
   "source": [
    "#### 3. enumerate() : \n",
    "    This function returns the list of all currently active Thread objects.\n",
    "##### Example :"
   ]
  },
  {
   "cell_type": "code",
   "execution_count": 5,
   "id": "1634eec8-6ba2-47ef-8016-698ec39aeeda",
   "metadata": {},
   "outputs": [
    {
     "name": "stdout",
     "output_type": "stream",
     "text": [
      "This is the list of Threads :\n",
      "1. MainThread\n",
      "2. IOPub\n",
      "3. Heartbeat\n",
      "4. Thread-3 (_watch_pipe_fd)\n",
      "5. Thread-4 (_watch_pipe_fd)\n",
      "6. Control\n",
      "7. IPythonHistorySavingThread\n",
      "8. Thread-2\n",
      "9. Thread-7 (testing_enumerate)\n"
     ]
    }
   ],
   "source": [
    "def testing_enumerate():\n",
    "    print(\"This is the list of Threads :\") \n",
    "    logging.info(\"This is the list of Threads :\") \n",
    "    \n",
    "var0 = threading.Thread(target=testing_enumerate)\n",
    "var0.start()\n",
    "\n",
    "test1 = threading.enumerate()\n",
    "\n",
    "for i, th in enumerate(test1):\n",
    "    print(f\"{i+1}. {th.name}\")\n",
    "    logging.info(list(th.name))"
   ]
  },
  {
   "cell_type": "markdown",
   "id": "8eda6c4f-844a-4a27-8817-b2e527e6a34c",
   "metadata": {},
   "source": [
    "### Q3. Explain the following functions:\n",
    "### 1. run(), 2. start(), 3. join(), 4. isAlive()"
   ]
  },
  {
   "cell_type": "markdown",
   "id": "4df64c29-52fd-466c-9230-080824e2fa11",
   "metadata": {},
   "source": [
    "##### 1. run() :\n",
    "    The \"run()\", is not a function that is usually called directly, it is a method that is used to perform work for a thread, but you don't call it directly. Instead, when you use 'start()' with a Thread object, it automatically executes the code from 'run()' in a separate thread."
   ]
  },
  {
   "cell_type": "markdown",
   "id": "40629999-f43f-4def-a825-405303b77553",
   "metadata": {},
   "source": [
    "##### 2. start() :\n",
    "    The \"start()\" is a method used to start the execution of a thread object. When the \"start()\" method is called it creates a new thread and calls the thread's \"run()\" method in that separate execution context."
   ]
  },
  {
   "cell_type": "markdown",
   "id": "6bf7fa39-bd6a-49f3-835e-4689b61af96d",
   "metadata": {},
   "source": [
    "##### 3. join() :\n",
    "    The \"join()\" method is used to wait for a thread to complete its execution before the program continues.This is useful for ensuring that the main program doesn't proceed until certain threads have completed their work."
   ]
  },
  {
   "cell_type": "markdown",
   "id": "8bbd1209-9ae5-452d-8983-e2ab5b9c1fd5",
   "metadata": {},
   "source": [
    "##### 4. isAlive() :\n",
    "    The \"isAlive()\" is method who checks whether a thread is currently running or active. It returns TRUE if the thread is still executing, and FALSE if the thread has finished its task. "
   ]
  },
  {
   "cell_type": "code",
   "execution_count": 1,
   "id": "01c7e192-4164-4242-8b6d-367aae1b0a5c",
   "metadata": {},
   "outputs": [],
   "source": [
    "import threading\n",
    "import logging\n",
    "import time"
   ]
  },
  {
   "cell_type": "code",
   "execution_count": 13,
   "id": "a7699e8e-b6f0-4802-ad65-52f9eac13b56",
   "metadata": {
    "tags": []
   },
   "outputs": [
    {
     "name": "stdout",
     "output_type": "stream",
     "text": [
      "Thread-16 is running.\n",
      "Thread-17 is running.\n",
      "Thread-16 is activate: True\n",
      "Thread-17 is activate: True\n",
      "Thread-16 is running.\n",
      "Thread-17 is running.\n",
      "Thread-16 is running.\n",
      "Thread-17 is running.\n",
      "Thread-16 is running.\n",
      "Thread-17 is running.\n",
      "Thread-16 is running.\n",
      "Thread-17 is running.\n",
      "Thread-16 is Finished ?  False\n",
      "Thread-17 is Finished ? False\n"
     ]
    }
   ],
   "source": [
    "# Log all data in log file.\n",
    "logging.basicConfig(filename=\"question3.log\", level= logging.INFO, format= \"%(asctime)s %(message)s\")\n",
    "\n",
    "class testThread(threading.Thread):\n",
    "    def run(self):    # This is using of run() method \n",
    "        for _ in range(5):\n",
    "            print(f\"{self.name} is running.\")\n",
    "            logging.info(f\"{self.name} now running.\")\n",
    "            time.sleep(1)\n",
    "\n",
    "# Create two thread objects\n",
    "myTest = testThread()\n",
    "myTest1 = testThread()\n",
    "\n",
    "# Start the execution using start() method\n",
    "myTest.start() \n",
    "myTest1.start() \n",
    "\n",
    "# Check alive threads using isAlive() method\n",
    "print(f\"{myTest.name} is activate: {myTest.is_alive()}\") # Error showing so I use this function.\n",
    "print(f\"{myTest1.name} is activate: {myTest1.is_alive()}\") # Error showing so I use this function.\n",
    "\n",
    "# Lets use join method to waiting for threads to finished\n",
    "myTest.join()\n",
    "myTest1.join()\n",
    "\n",
    "# Check again threads are alive or not using isAlive()\n",
    "print(f\"{myTest.name} is Finished ?  {myTest.is_alive()}\")\n",
    "print(f\"{myTest1.name} is Finished ? {myTest1.is_alive()}\")"
   ]
  },
  {
   "cell_type": "markdown",
   "id": "830bd36b-46ab-42ce-8092-401bcef8d17b",
   "metadata": {
    "tags": []
   },
   "source": [
    "### Q4. Write a python program to create two threads. Thread one must print the list of squares and thread two must print the list of cubes."
   ]
  },
  {
   "cell_type": "code",
   "execution_count": 14,
   "id": "f2df7d90-2960-4f80-8102-b0de91fde372",
   "metadata": {},
   "outputs": [
    {
     "name": "stdout",
     "output_type": "stream",
     "text": [
      "Here is square list : [1, 4, 9, 16, 25]\n",
      "Here is square list : [1, 8, 27, 64, 125]\n"
     ]
    }
   ],
   "source": [
    "# Log all data into log file\n",
    "logging.basicConfig(filename=\"question3.log\", level= logging.INFO, format= \"%(asctime)s %(message)s\")\n",
    "\n",
    "# Create Square List Function\n",
    "def squareList():\n",
    "    l1 = []\n",
    "    for i in range(1,6):\n",
    "        l1.append(i**2)\n",
    "    print(f\"Here is square list : {l1}\")\n",
    "    logging.info(f\"Here is square list : {l1}\")\n",
    "\n",
    "# Create Cubes List Function\n",
    "def cubesList():\n",
    "    l1 = []\n",
    "    for i in range(1,6):\n",
    "        l1.append(i**3)\n",
    "    print(f\"Here is square list : {l1}\")\n",
    "    logging.info(f\"Here is square list : {l1}\")\n",
    "\n",
    "# Create two Threads \n",
    "sqaureThread = threading.Thread(target= squareList) # For Square\n",
    "cubesThread = threading.Thread(target= cubesList) # For Cubes\n",
    "\n",
    "# Lets call the thread for run.\n",
    "sqaureThread.start()\n",
    "cubesThread.start()"
   ]
  },
  {
   "cell_type": "markdown",
   "id": "3036bad8-4509-4074-8995-39d073ce9b98",
   "metadata": {},
   "source": [
    "### Q4. State advantages and disadvantages of multithreading."
   ]
  },
  {
   "cell_type": "markdown",
   "id": "aaee015b-06f0-45d9-b9bb-500ed646212c",
   "metadata": {},
   "source": [
    "##### Advantages of Multithreading :\n",
    "\n",
    "Multi-threading proviodes several advantages, including improved performance, enhanced responsiveness, and efficient resource sharing.By running multiple threads concurrently, multi-threaded programs can take advantage of modern multi-core processors. In more simple word, Multi-threading is like having multiple workers in a factory. It can make tasks run faster because each worker can do a different job at the same time. \n",
    "   \n",
    "##### Disadvantages of Multithreading :\n",
    "\n",
    "Multi-threading has its drawbacks. It introduces complexity issues, such as race conditions and deadlocks. Managing threads consumes extra memory and CPU resources, which may not be justified for simple or short-lived tasks.However, it's not always perfect, like sometimes the workers need to share tools and materials, and if they don't coordinate well, there can be problems. "
   ]
  },
  {
   "cell_type": "markdown",
   "id": "a8a521b8-144f-42c5-a70d-8a72eb38ff4e",
   "metadata": {},
   "source": [
    "### Q6. Explain deadlocks and race conditions."
   ]
  },
  {
   "cell_type": "markdown",
   "id": "d9f3739d-f0b1-437b-ae24-e5ff5c7fc2e7",
   "metadata": {},
   "source": [
    "Deadlocks are situations in concurrent computing where two or more processes or threads are unable to proceed because each is waiting for the other to release a resource. It's like a traffic jam where cars block each other and can't move.\n",
    "\n",
    "Race conditions happen when different parts of a program try to use the same information at the same time, and the outcome depends on which part gets there first. It's like two people trying to update the same document, and if they don't coordinate, it might end up messy or wrong.\n",
    "\n",
    "Both deadlocks and race conditions are common concurrency problems that must be carefully managed in software development. \n"
   ]
  },
 "nbformat": 4,
 "nbformat_minor": 5
}
