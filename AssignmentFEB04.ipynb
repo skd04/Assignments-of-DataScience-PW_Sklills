{
 "cells": [
  {
   "cell_type": "markdown",
   "id": "ce4a2d5a-2992-45a3-a11f-2acc0a9709c2",
   "metadata": {},
   "source": [
    "Q1. Create a python program to sort the given list of tuples based on integer value using a\n",
    "lambda function."
   ]
  },
  {
   "cell_type": "code",
   "execution_count": 1,
   "id": "e8237bd3-de7c-4f1d-ac33-8a82644d7186",
   "metadata": {},
   "outputs": [
    {
     "name": "stdout",
     "output_type": "stream",
     "text": [
      "Virat Kohli: 24936\n",
      "Jack Kallis: 25534\n",
      "Ricky Ponting: 27483\n",
      "Sachin Tendulkar: 34357\n"
     ]
    }
   ],
   "source": [
    "data = [('Sachin Tendulkar', 34357), ('Ricky Ponting', 27483), ('Jack Kallis', 25534), ('Virat Kohli', 24936)]\n",
    "runs = len(data)\n",
    "\n",
    "for i in range(runs):\n",
    "    for j in range(0, runs-i-1):\n",
    "        if data[j][1] > data[j+1][1]:\n",
    "            data[j], data[j+1] = data[j+1], data[j]\n",
    "\n",
    "txt = map(lambda x: f'{x[0]}: {x[1]}', data)\n",
    "for a in txt:\n",
    "    print(a)\n"
   ]
  },
  {
   "cell_type": "code",
   "execution_count": 2,
   "id": "fca9b52b-ddc7-40b0-a992-c6308807a9cf",
   "metadata": {},
   "outputs": [
    {
     "name": "stdout",
     "output_type": "stream",
     "text": [
      "Sachin Tendulkar: 34357\n",
      "Ricky Ponting: 27483\n",
      "Jack Kallis: 25534\n",
      "Virat Kohli: 24936\n"
     ]
    }
   ],
   "source": [
    "data = [('Sachin Tendulkar', 34357), ('Ricky Ponting', 27483), ('Jack Kallis', 25534), ('Virat Kohli', 24936)]\n",
    "rank = sorted(data, key = lambda x : x[1], reverse = True)\n",
    "\n",
    "for player, runs in rank:\n",
    "    print(f'{player}: {runs}')"
   ]
  },
  {
   "cell_type": "markdown",
   "id": "c03ef7c3-5fed-4bf8-958f-0e019405673a",
   "metadata": {},
   "source": [
    "Q2. Write a Python Program to find the squares of all the numbers in the given list of integers using\n",
    "lambda and map functions."
   ]
  },
  {
   "cell_type": "code",
   "execution_count": 31,
   "id": "ebe4c042-dad9-4200-8536-b6aa71e41ee7",
   "metadata": {},
   "outputs": [
    {
     "data": {
      "text/plain": [
       "[1, 4, 9, 16, 25, 36, 49, 64, 81, 100]"
      ]
     },
     "execution_count": 31,
     "metadata": {},
     "output_type": "execute_result"
    }
   ],
   "source": [
    "values = [1, 2, 3, 4, 5, 6, 7, 8, 9, 10]\n",
    "list(map(lambda x: x**2, values))"
   ]
  },
  {
   "cell_type": "markdown",
   "id": "acbf5dac-00a9-4a3c-bd9e-af126878efab",
   "metadata": {},
   "source": [
    "Q3. Write a python program to convert the given list of integers into a tuple of strings. Use map and\n",
    "lambda functions"
   ]
  },
  {
   "cell_type": "code",
   "execution_count": 35,
   "id": "82bda34f-499b-4ba4-a810-057ad80471b2",
   "metadata": {},
   "outputs": [
    {
     "data": {
      "text/plain": [
       "('1', '2', '3', '4', '5', '6', '7', '8', '9', '10')"
      ]
     },
     "execution_count": 35,
     "metadata": {},
     "output_type": "execute_result"
    }
   ],
   "source": [
    "val = [1, 2, 3, 4, 5, 6, 7, 8, 9, 10]\n",
    "\n",
    "tuple(map(lambda x : f'{x}', val))"
   ]
  },
  {
   "cell_type": "markdown",
   "id": "a00ddc52-203f-47f8-913b-7c8026b1b2c7",
   "metadata": {},
   "source": [
    "Q4. Write a python program using reduce function to compute the product of a list containing numbers\n",
    "from 1 to 25."
   ]
  },
  {
   "cell_type": "code",
   "execution_count": 41,
   "id": "41d0cf91-3640-4fd2-9e1f-28dae13518d5",
   "metadata": {},
   "outputs": [
    {
     "data": {
      "text/plain": [
       "325"
      ]
     },
     "execution_count": 41,
     "metadata": {},
     "output_type": "execute_result"
    }
   ],
   "source": [
    "from functools import reduce\n",
    "\n",
    "numbers = list(range(1, 26))\n",
    "\n",
    "reduce(lambda x, y : x+y, numbers)"
   ]
  },
  {
   "cell_type": "markdown",
   "id": "d1873a81-44fe-48d9-aac3-ec1b1d7d7c49",
   "metadata": {},
   "source": [
    "Q5. Write a python program to filter the numbers in a given list that are divisible by 2 and 3 using the\n",
    "filter function."
   ]
  },
  {
   "cell_type": "code",
   "execution_count": 5,
   "id": "bdebd3d1-b3ba-4523-9d14-b741a5cc761a",
   "metadata": {},
   "outputs": [
    {
     "data": {
      "text/plain": [
       "[6, 60, 90, 120]"
      ]
     },
     "execution_count": 5,
     "metadata": {},
     "output_type": "execute_result"
    }
   ],
   "source": [
    "nums = [2, 3, 6, 9, 27, 60, 90, 120, 55, 46]\n",
    "\n",
    "list(filter(lambda x : x % 2 == 0 and x % 3 == 0, nums))"
   ]
  },
  {
   "cell_type": "markdown",
   "id": "94e1303d-8d66-4730-89cc-7ffdb4bf97d0",
   "metadata": {},
   "source": [
    "Q6. Write a python program to find palindromes in the given list of strings using lambda and filter\n",
    "function."
   ]
  },
  {
   "cell_type": "code",
   "execution_count": 12,
   "id": "2556091f-39fa-4e16-9ff8-83101701e746",
   "metadata": {},
   "outputs": [
    {
     "data": {
      "text/plain": [
       "['php', 'aba', 'radar', 'level']"
      ]
     },
     "execution_count": 12,
     "metadata": {},
     "output_type": "execute_result"
    }
   ],
   "source": [
    "pal_words = ['python', 'php', 'aba', 'radar', 'level']\n",
    "\n",
    "list(filter(lambda word : word == word[::-1], pal_words))"
   ]
  }
 ],
 "metadata": {
  "kernelspec": {
   "display_name": "Python 3 (ipykernel)",
   "language": "python",
   "name": "python3"
  },
  "language_info": {
   "codemirror_mode": {
    "name": "ipython",
    "version": 3
   },
   "file_extension": ".py",
   "mimetype": "text/x-python",
   "name": "python",
   "nbconvert_exporter": "python",
   "pygments_lexer": "ipython3",
   "version": "3.10.8"
  }
 },
 "nbformat": 4,
 "nbformat_minor": 5
}
