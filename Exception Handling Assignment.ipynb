{
 "cells": [
  {
   "cell_type": "code",
   "execution_count": 1,
   "id": "b527a428-a5da-454a-bfaf-2c51ae84e0e1",
   "metadata": {},
   "outputs": [],
   "source": [
    "import logging"
   ]
  },
  {
   "cell_type": "markdown",
   "id": "2f093a81-691f-4d02-8732-828e5fd8ed04",
   "metadata": {},
   "source": [
    "### Q1. What is an Exception in python? Write the difference between Exceptions and Syntax errors."
   ]
  },
  {
   "cell_type": "markdown",
   "id": "a2b1980c-8b3b-46d4-9deb-d5c95c0663c3",
   "metadata": {},
   "source": [
    "_Exception in Python is a class that helps to run the normal flow of a program without disruptions. It occurs when an error or unexpected condition is encountered during program execution._\n",
    "\n",
    "#### Basic differences between Exceptions and syntax errors. -\n",
    "    \n",
    "    Exceptions are used to run the normal flow of a program. It can be caused by various issues, such as division by zero, attempting to access a non-existent file, or attempting to use a variable that has not been defined. Also, it can be customizable, we can create our exception function.\n",
    "    On the other hand,  Syntex errors occur during the parsing phase. It happens when the program has an incorrect structure as a par system, like missing colon, parentheses, or invalid variables, and only after correction of the code, it can be fixed.\n"
   ]
  },
  {
   "cell_type": "markdown",
   "id": "63d962c7-c55b-4a04-aa82-50c6122d8ae8",
   "metadata": {},
   "source": [
    "### Q2. What happens when an exception is not handled? Explain with an example."
   ]
  },
  {
   "cell_type": "markdown",
   "id": "c3bd7a8b-7020-44bb-bf93-592647356c90",
   "metadata": {},
   "source": [
    "_When an exception is not handled in Python, it means the program encounters an error or an unexpected problem, and instead of solving it, the program crashes and stops running.  Having exception handling helps to deal with any kind of disruption in a program, also you can find out errors or problems in that program. In one line, if you have exception handling then it helps to investigate the program else the program crashed._\n",
    "\n",
    "#### Example :"
   ]
  },
  {
   "cell_type": "code",
   "execution_count": 8,
   "id": "57c9802a-b51e-4ac4-9e02-10417a55c437",
   "metadata": {},
   "outputs": [
    {
     "name": "stdin",
     "output_type": "stream",
     "text": [
      "Enter your wanted number: \n",
      " 5\n"
     ]
    },
    {
     "ename": "IndexError",
     "evalue": "list index out of range",
     "output_type": "error",
     "traceback": [
      "\u001b[0;31m---------------------------------------------------------------------------\u001b[0m",
      "\u001b[0;31mIndexError\u001b[0m                                Traceback (most recent call last)",
      "Cell \u001b[0;32mIn[8], line 5\u001b[0m\n\u001b[1;32m      3\u001b[0m list_data \u001b[38;5;241m=\u001b[39m [\u001b[38;5;241m1\u001b[39m,\u001b[38;5;241m2\u001b[39m,\u001b[38;5;241m3\u001b[39m,\u001b[38;5;241m5\u001b[39m,\u001b[38;5;241m4\u001b[39m]\n\u001b[1;32m      4\u001b[0m user_input \u001b[38;5;241m=\u001b[39m \u001b[38;5;28mint\u001b[39m(\u001b[38;5;28minput\u001b[39m(\u001b[38;5;124m\"\u001b[39m\u001b[38;5;124mEnter your wanted number: \u001b[39m\u001b[38;5;130;01m\\n\u001b[39;00m\u001b[38;5;124m\"\u001b[39m))\n\u001b[0;32m----> 5\u001b[0m data \u001b[38;5;241m=\u001b[39m \u001b[43mlist_data1\u001b[49m\u001b[43m[\u001b[49m\u001b[43muser_input\u001b[49m\u001b[43m]\u001b[49m\n\u001b[1;32m      6\u001b[0m logging\u001b[38;5;241m.\u001b[39minfo(\u001b[38;5;124mf\u001b[39m\u001b[38;5;124m\"\u001b[39m\u001b[38;5;124mIn \u001b[39m\u001b[38;5;132;01m{\u001b[39;00mlist_data\u001b[38;5;132;01m}\u001b[39;00m\u001b[38;5;124m this list, this yours wanted number \u001b[39m\u001b[38;5;132;01m{\u001b[39;00mdata\u001b[38;5;132;01m}\u001b[39;00m\u001b[38;5;124m.\u001b[39m\u001b[38;5;124m\"\u001b[39m)\n",
      "\u001b[0;31mIndexError\u001b[0m: list index out of range"
     ]
    }
   ],
   "source": [
    "# Without Exception Handling\n",
    "logging.basicConfig( filename= \"question2.log\", level= logging.INFO , format = \"%(asctime)s %(message)s\")\n",
    "list_data = [1,2,3,5,4]\n",
    "user_input = int(input(\"Enter your wanted number: \\n\"))\n",
    "data = list_data1[user_input]\n",
    "logging.info(f\"In {list_data} this list, this yours wanted number {data}.\")"
   ]
  },
  {
   "cell_type": "code",
   "execution_count": 7,
   "id": "be456649-941e-4996-bcee-ec6dcf44b516",
   "metadata": {},
   "outputs": [
    {
     "name": "stdin",
     "output_type": "stream",
     "text": [
      "Enter your wanted number: \n",
      " 5\n"
     ]
    },
    {
     "name": "stdout",
     "output_type": "stream",
     "text": [
      "Sorry this number of index not available. list index out of range\n"
     ]
    }
   ],
   "source": [
    "### With Exception Handling\n",
    "list_data1 = [1,2,3,5,4]\n",
    "try :\n",
    "    user_input = int(input(\"Enter your wanted number: \\n\"))\n",
    "    data = list_data1[user_input]\n",
    "except Exception as e :\n",
    "    print(\"Sorry this number of index not available.\", e)\n",
    "    logging.error(\"There is an erron of index range.\")\n",
    "else :\n",
    "    logging.info(f\"In {list_data1} this list, this yours wanted number {data}.\")"
   ]
  },
  {
   "cell_type": "markdown",
   "id": "daa8f007-578b-4dc6-a253-f1215de2b7f0",
   "metadata": {},
   "source": [
    "### Q3. Which Python statements are used to catch and handle exceptions? Explain with an example."
   ]
  },
  {
   "cell_type": "markdown",
   "id": "b4fb19c9-6422-4b80-811d-503256a6f3e3",
   "metadata": {},
   "source": [
    "_In Python, the \"try\" and \"except\" these two statements are used to handle exceptions. The 'try' statement is used to target expected errors or problematic programs and the \"expect\" is where we can define what happens after the error._\n",
    "\n",
    "#### Exception :"
   ]
  },
  {
   "cell_type": "code",
   "execution_count": 2,
   "id": "65bc416b-e388-4d75-8d7e-7b51e0e6af6b",
   "metadata": {},
   "outputs": [
    {
     "name": "stdin",
     "output_type": "stream",
     "text": [
      "Which data you want from My Dictionary: NAme\n"
     ]
    },
    {
     "name": "stdout",
     "output_type": "stream",
     "text": [
      "As per your choice, your name is Shankhadeep\n"
     ]
    }
   ],
   "source": [
    "# With correct key selection\n",
    "logging.basicConfig( filename= \"question3.log\", level= logging.INFO , format = \"%(asctime)s %(message)s\") # Create log file.\n",
    "# Set dictionary\n",
    "my_dict = {\n",
    "    'name': 'Shankhadeep',\n",
    "    'age': 22, \n",
    "    'number': 904124410\n",
    "}\n",
    "user_choice = input(\"Which data you want from My Dictionary:\").lower() # Set variables\n",
    "try:\n",
    "    value = my_dict[user_choice]\n",
    "except Exception as e:\n",
    "    print(\"Key not found in the dictionary.\", e) # After exception happened\n",
    "    logging.error(\"Error : Key not found in the dictionary.\")\n",
    "else: \n",
    "    print(f\"As per your choice, your {user_choice} is {value}\")\n",
    "    logging.info(f\" {user_choice} : {value}\") # Successfu;;y Excuted\n",
    "finally :\n",
    "    logging.info(\"Successfully Executed.\") # Operation Done."
   ]
  },
  {
   "cell_type": "code",
   "execution_count": 3,
   "id": "4070d918-7e57-497f-8743-7d60e31593cf",
   "metadata": {},
   "outputs": [
    {
     "name": "stdin",
     "output_type": "stream",
     "text": [
      "Which data you want from My Dictionary:  email\n"
     ]
    },
    {
     "name": "stdout",
     "output_type": "stream",
     "text": [
      "Key not found in the dictionary. 'email'\n"
     ]
    }
   ],
   "source": [
    "# With incorrect key selection\n",
    "\n",
    "# Set dictionary\n",
    "my_dict = {\n",
    "    'name': 'Shankhadeep',\n",
    "    'age': 22, \n",
    "    'number': 904124410\n",
    "}\n",
    "user_choice = input(\"Which data you want from My Dictionary:\").lower() # Set variables\n",
    "try:\n",
    "    value = my_dict[user_choice]\n",
    "except Exception as e:\n",
    "    print(\"Key not found in the dictionary.\", e) # After exception happened\n",
    "    logging.error(\"Error : Key not found in the dictionary.\")\n",
    "else: \n",
    "    print(f\"As per your choice, your {user_choice} is {value}\")\n",
    "    logging.info(f\" {user_choice} : {value}\") # Successfu;;y Excuted\n",
    "finally :\n",
    "    logging.info(\"Successfully Executed.\") # Operation Done."
   ]
  },
  {
   "cell_type": "markdown",
   "id": "ec308d41-1994-4b32-a34b-2e9294c43b8b",
   "metadata": {},
   "source": [
    "### Q4. Explain with an example: A. try and else B. finally C. raise"
   ]
  },
  {
   "cell_type": "markdown",
   "id": "213944cb-9b6d-48e5-baee-66cbb2b47041",
   "metadata": {},
   "source": [
    "##### A. try and else\n",
    "\n",
    "The \"try\" block is used to enclose code that may raise exceptions, and the 'else' block contains code to run if no exceptions occur. \n",
    "##### B. finally\n",
    "The \"finally\" block contains code that is executed regardless of whether an exception happens or not.\n",
    "##### C. raise\n",
    "The \"raise\" statment used to specified some exception.\n",
    "\n",
    "##### Example respectively:"
   ]
  },
  {
   "cell_type": "code",
   "execution_count": 13,
   "id": "ffc5fb17-2a8a-43a3-bdc1-c90c13e0257a",
   "metadata": {},
   "outputs": [
    {
     "name": "stdin",
     "output_type": "stream",
     "text": [
      "Enter your base value number: 200\n",
      "Enter your division number: 20\n"
     ]
    },
    {
     "name": "stdout",
     "output_type": "stream",
     "text": [
      "Result: 10.0\n"
     ]
    }
   ],
   "source": [
    "## With Clean Sheet\n",
    "logging.basicConfig( filename= \"question4.log\", level= logging.INFO , format = \"%(asctime)s %(message)s\") # Create log file store all data.\n",
    "\n",
    "class ValidateData(Exception):\n",
    "    # Set message\n",
    "    def __init__(self , message):\n",
    "        self.message = message\n",
    "\n",
    "# Set Method for raise specific errors.\n",
    "def data_validate(data, base):\n",
    "    # for 0 Division exceptions\n",
    "    if data == 0:\n",
    "        raise ValidateData(f\"Sorry can't divide by {data}, you have to put between 1 - {base}.\")\n",
    "    # for out range exceptions\n",
    "    elif data > base :\n",
    "        raise ValidateData(f\"This number is out of range, you have to put between 1 - {base}.\")\n",
    "\n",
    "# Set variables \n",
    "base_value = int(input(\"Enter your base value number:\"))   \n",
    "user_inp = int(input(\"Enter your division number:\"))\n",
    "\n",
    "# Hendle the expected Erros of program\n",
    "try :   \n",
    "    data_validate(user_inp, base_value) # First Validate the data.\n",
    "    result = base_value / user_inp # set the output we want.\n",
    "\n",
    "# When program occurs any disruption.\n",
    "except ValidateData as e:\n",
    "    print(e)\n",
    "    logging.error(f\"Error : {e}\")\n",
    "else :\n",
    "    print(\"Result:\", round(result, 2))\n",
    "    logging.info(f\"Successfully Executed.Your data {result}.\")\n",
    "finally :\n",
    "    logging.info(\"Execution completed.\") # Successfully Executed."
   ]
  },
  {
   "cell_type": "code",
   "execution_count": 14,
   "id": "d9e71ac0-bd36-44b3-8e6a-120560174dfc",
   "metadata": {},
   "outputs": [
    {
     "name": "stdin",
     "output_type": "stream",
     "text": [
      "Enter your base value number: 200\n",
      "Enter your division number: 0\n"
     ]
    },
    {
     "name": "stdout",
     "output_type": "stream",
     "text": [
      "Sorry can't divide by 0, you have to put between 1 - 200.\n"
     ]
    }
   ],
   "source": [
    "# With 0 Division error\n",
    "logging.basicConfig( filename= \"question4.log\", level= logging.INFO , format = \"%(asctime)s %(message)s\") # Create log file store all data.\n",
    "\n",
    "class ValidateData(Exception):\n",
    "    # Set message\n",
    "    def __init__(self , message):\n",
    "        self.message = message\n",
    "\n",
    "# Set Method for raise specific errors.\n",
    "def data_validate(data, base):\n",
    "    # for 0 Division exceptions\n",
    "    if data == 0:\n",
    "        raise ValidateData(f\"Sorry can't divide by {data}, you have to put between 1 - {base}.\")\n",
    "    # for out range exceptions\n",
    "    elif data > base :\n",
    "        raise ValidateData(f\"This number is out of range, you have to put between 1 - {base}.\")\n",
    "\n",
    "# Set variables \n",
    "base_value = int(input(\"Enter your base value number:\"))   \n",
    "user_inp = int(input(\"Enter your division number:\"))\n",
    "\n",
    "# Hendle the expected Erros of program\n",
    "try :   \n",
    "    data_validate(user_inp, base_value) # First Validate the data.\n",
    "    result = base_value / user_inp # set the output we want.\n",
    "\n",
    "# When program occurs any disruption.\n",
    "except ValidateData as e:\n",
    "    print(e)\n",
    "    logging.error(f\"Error : {e}\")\n",
    "else :\n",
    "    print(\"Result:\", round(result, 2))\n",
    "    logging.info(f\"Successfully Executed.Your data {result}.\")\n",
    "finally :\n",
    "    logging.info(\"Execution completed.\") # Successfully Executed."
   ]
  },
  {
   "cell_type": "code",
   "execution_count": 17,
   "id": "fc3de19f-ac0a-4a41-b9c7-94152f9486ad",
   "metadata": {},
   "outputs": [
    {
     "name": "stdin",
     "output_type": "stream",
     "text": [
      "Enter your base value number: 200\n",
      "Enter your division number: 220\n"
     ]
    },
    {
     "name": "stdout",
     "output_type": "stream",
     "text": [
      "This number is out of range, you have to put between 1 - 200.\n"
     ]
    }
   ],
   "source": [
    "# With exception out of range\n",
    "logging.basicConfig( filename= \"question4.log\", level= logging.INFO , format = \"%(asctime)s %(message)s\") # Create log file store all data.\n",
    "\n",
    "class ValidateData(Exception):\n",
    "    # Set message\n",
    "    def __init__(self , message):\n",
    "        self.message = message\n",
    "\n",
    "# Set Method for raise specific errors.\n",
    "def data_validate(data, base):\n",
    "    # for 0 Division exceptions\n",
    "    if data == 0:\n",
    "        raise ValidateData(f\"Sorry can't divide by {data}, you have to put between 1 - {base}.\")\n",
    "    # for out range exceptions\n",
    "    elif data > base :\n",
    "        raise ValidateData(f\"This number is out of range, you have to put between 1 - {base}.\")\n",
    "\n",
    "# Set variables \n",
    "base_value = int(input(\"Enter your base value number:\"))   \n",
    "user_inp = int(input(\"Enter your division number:\"))\n",
    "\n",
    "# Hendle the expected Erros of program\n",
    "try :   \n",
    "    data_validate(user_inp, base_value) # First Validate the data.\n",
    "    result = base_value / user_inp # set the output we want.\n",
    "\n",
    "# When program occurs any disruption.\n",
    "except ValidateData as e:\n",
    "    print(e)\n",
    "    logging.error(f\"Error : {e}\")\n",
    "else :\n",
    "    print(\"Result:\", round(result, 2))\n",
    "    logging.info(f\"Successfully Executed.Your data {result}.\")\n",
    "finally :\n",
    "    logging.info(\"Execution completed.\") # Successfully Executed."
   ]
  },
  {
   "cell_type": "markdown",
   "id": "e67d395b-fa7e-448c-b824-8bffa47eda6f",
   "metadata": {},
   "source": [
    "### Q5. What are Custom Exceptions in python? Why do we need Custom Exceptions? Explain with an example.\n"
   ]
  },
  {
   "cell_type": "markdown",
   "id": "c735ad9a-0b3b-40f1-8dd3-97b32b90990e",
   "metadata": {},
   "source": [
    "Custom Exceptions in python is the method where we can create our own exception classes, where we can define what happen if specific error happen. It help make your code more readable and maintainable, as they provide clear and specific error messages.\n",
    "\n",
    "##### Example :"
   ]
  },
  {
   "cell_type": "code",
   "execution_count": 1,
   "id": "e0e3b1c6-3935-44f5-b5fa-1829df11c6be",
   "metadata": {},
   "outputs": [],
   "source": [
    "import logging\n",
    "\n",
    "# Configure logging\n",
    "logging.basicConfig(filename=\"question5.log\", level=logging.INFO, format=\"%(asctime)s %(message)s\")\n",
    "\n",
    "# Custom exception class\n",
    "class Authentication(Exception):\n",
    "    def __init__(self, message):\n",
    "        self.message = message #Set message.\n",
    "\n",
    "# create a function for raise \n",
    "def authenticate(data, username, password):\n",
    "    if username not in data or data[username] != password:\n",
    "        raise Authentication(\"Authentication failed. Please provide valid details or sign up.\")\n",
    "    return True\n",
    "\n",
    "my_data = {}  # Store user data\n",
    "\n",
    "# Create account log function\n",
    "def account_log():\n",
    "    account_reg = input(\"Do you want to Login or Sign Up: \").lower() # set user selection\n",
    "    if account_reg == \"login\":\n",
    "        # If user want to login\n",
    "        logging.info(\"Try to login\")\n",
    "        login()\n",
    "    elif account_reg == \"signup\":\n",
    "        # If user want to signup\n",
    "        logging.info(\"New sign up.\")\n",
    "        signup()\n",
    "    else:\n",
    "        print(\"Invalid choice.\")\n",
    "        account_log()\n",
    "\n",
    "def signup():\n",
    "    username = input(\"Set your username: \") \n",
    "    password = input(\"Set your password: \")\n",
    "    conf_pw = input(\"Confirm your password: \")\n",
    "    \n",
    "    if password != conf_pw: # checking password\n",
    "        print(\"Passwords do not match.\")\n",
    "        logging.error(\"Error : password not matched.\")\n",
    "        signup()\n",
    "    else: #\n",
    "        my_data[username] = password\n",
    "        print(\"Sign up successful. You can now log in.\")\n",
    "        logging.info(\"Successfully Signed up.\")\n",
    "        account_log()\n",
    "\n",
    "def login():\n",
    "    usernamec = input(\"Username: \")\n",
    "    passwordc = input(\"Password: \")\n",
    "    # Authenticate username and password\n",
    "    try:\n",
    "        if authenticate(my_data, usernamec, passwordc):\n",
    "            print(\"Login successful.\")\n",
    "    except Authentication as a:\n",
    "        print(a)\n",
    "        logging.error(f\"Error : {a}\")\n",
    "    finally:\n",
    "        logging.info(\"Execution successfully completed.\")"
   ]
  },
  {
   "cell_type": "code",
   "execution_count": 2,
   "id": "57b46958-6332-448f-ac3f-edd103e99436",
   "metadata": {},
   "outputs": [
    {
     "name": "stdin",
     "output_type": "stream",
     "text": [
      "Do you want to Login or Sign Up:  signup\n",
      "Set your username:  shankhadeep\n",
      "Set your password:  password\n",
      "Confirm your password:  password\n"
     ]
    },
    {
     "name": "stdout",
     "output_type": "stream",
     "text": [
      "Sign up successful. You can now log in.\n"
     ]
    },
    {
     "name": "stdin",
     "output_type": "stream",
     "text": [
      "Do you want to Login or Sign Up:  login\n",
      "Username:  shankha\n",
      "Password:  pass\n"
     ]
    },
    {
     "name": "stdout",
     "output_type": "stream",
     "text": [
      "Authentication failed. Please provide valid details or sign up.\n"
     ]
    }
   ],
   "source": [
    "account_log()"
   ]
  },
  {
   "cell_type": "code",
   "execution_count": 5,
   "id": "4127e53b-7b54-4b40-8c23-af5dc301e790",
   "metadata": {},
   "outputs": [
    {
     "name": "stdin",
     "output_type": "stream",
     "text": [
      "Do you want to Login or Sign Up:  login\n",
      "Username:  shankhadeep\n",
      "Password:  password1\n"
     ]
    },
    {
     "name": "stdout",
     "output_type": "stream",
     "text": [
      "Login successful.\n"
     ]
    }
   ],
   "source": [
    "account_log()"
   ]
  },
  {
   "cell_type": "markdown",
   "id": "100da714-1071-4ca8-a780-6b194c979a48",
   "metadata": {},
   "source": [
    "### Q6. Create a custom exception class. Use this class to handle an exception.\n"
   ]
  },
  {
   "cell_type": "code",
   "execution_count": null,
   "id": "1b2162a1-ae29-4e88-b817-02b69d3bc2b7",
   "metadata": {},
   "outputs": [],
   "source": [
    "class MyCustomException(Exception):\n",
    "    pass\n",
    "\n",
    "def divide(a, b):\n",
    "    if b == 0:\n",
    "        raise MyCustomException(\"Division by zero is not allowed\")\n",
    "    return a / b\n",
    "\n",
    "try:\n",
    "    result = divide(10, 2)\n",
    "    print(f\"Result: {result}\")\n",
    "    \n",
    "    result = divide(5, 0)\n",
    "    print(f\"Result: {result}\")  # This line will not be reached due to the exception\n",
    "except MyCustomException as e:\n",
    "    print(f\"Custom Exception: {e}\")\n"
   ]
  }
 ],
 "metadata": {
  "kernelspec": {
   "display_name": "Python 3 (ipykernel)",
   "language": "python",
   "name": "python3"
  },
  "language_info": {
   "codemirror_mode": {
    "name": "ipython",
    "version": 3
   },
   "file_extension": ".py",
   "mimetype": "text/x-python",
   "name": "python",
   "nbconvert_exporter": "python",
   "pygments_lexer": "ipython3",
   "version": "3.10.8"
  }
 },
 "nbformat": 4,
 "nbformat_minor": 5
}
