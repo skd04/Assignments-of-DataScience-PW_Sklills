{
 "cells": [
  {
   "cell_type": "markdown",
   "id": "4a3bf6bc-5477-4723-a2c7-52a033f1c0a6",
   "metadata": {},
   "source": [
    "### Q1. What is Abstraction in OOps? Explain with an example."
   ]
  },
  {
   "cell_type": "markdown",
   "id": "5246df59-e6a9-4341-a16b-720874d4e93d",
   "metadata": {},
   "source": [
    "Abstracion is an class which is basically use for create an blueprint of an code.It helps to formatting your code and give a particular structure.\n",
    "\n",
    "Example:"
   ]
  },
  {
   "cell_type": "code",
   "execution_count": 35,
   "id": "15c039c1-c410-4524-8aee-af08924af780",
   "metadata": {},
   "outputs": [
    {
     "name": "stdout",
     "output_type": "stream",
     "text": [
      "The Radius of Circle : 95.0\n",
      "This is the Area of rectangle : 24\n"
     ]
    }
   ],
   "source": [
    "# First make our sample blueprint \n",
    "import abc\n",
    "class BluePrint :\n",
    "    \n",
    "    # Are of a shape.\n",
    "    @abc.abstractmethod\n",
    "    def area(self):\n",
    "        pass\n",
    "\n",
    "# Let's create a Circle class  \n",
    "class Circle(BluePrint):\n",
    "    \n",
    "    def __init__(self, radius):\n",
    "        self.radius = radius\n",
    "    \n",
    "    def area(self):\n",
    "        return 3.8 * self.radius * self.radius\n",
    "\n",
    "# Let's create a Rectangle class\n",
    "class Rectangle(BluePrint):\n",
    "    \n",
    "    def __init__(self, height, width):\n",
    "        self.height = height\n",
    "        self.width = width\n",
    "        \n",
    "    def area(self):\n",
    "        return self.height * self.width \n",
    "\n",
    "# Now Make a Object using our classes \n",
    "circle = Circle(5)\n",
    "rectangle = Rectangle(4,6)\n",
    "\n",
    "# Finally print in a formatted way.\n",
    "print(f\"The Radius of Circle : {circle.area()}\\nThis is the Area of rectangle : {rectangle.area()}\")"
   ]
  },
  {
   "cell_type": "markdown",
   "id": "912e5fc3-4270-4f6b-91ae-2843573eaf0b",
   "metadata": {},
   "source": [
    "### Q2. Differentiate between Abstraction and Encapsulation. Explain with an example."
   ]
  },
  {
   "cell_type": "markdown",
   "id": "d1696bba-cf08-44c1-8e00-26975c406a1f",
   "metadata": {},
   "source": [
    "Abstraction is a process that helps structure and focus a part of your work by creating a blueprint of any class. While encapsulation is a way of encapsulating your code or hiding your details or data from the user and making it private.\n",
    "\n",
    "Example :"
   ]
  },
  {
   "cell_type": "code",
   "execution_count": 4,
   "id": "3788ca75-7f59-4c22-8a20-9e3892292153",
   "metadata": {},
   "outputs": [],
   "source": [
    "# Example of Abstraction\n",
    "\n",
    "import abc\n",
    "class OOP :\n",
    "    \n",
    "    @abc.abstractmethod\n",
    "    def ask_question(self):\n",
    "        pass\n",
    "    \n",
    "    @abc.abstractmethod\n",
    "    def introduction(self):\n",
    "        pass\n",
    "    \n",
    "class Interviw :\n",
    "    \n",
    "    def __init__(self, age, name):\n",
    "        # Example of encapsulation\n",
    "        self.__age = age \n",
    "        self.name = name.split(\" \")\n",
    "    \n",
    "    # Uses of Abstraction\n",
    "    def ask_question1(self):\n",
    "        question = f\"Hi {self.name[0]}, Welcome to our company. Now please give me a brief intro of your self.\"\n",
    "        return question\n",
    "    \n",
    "    def introduction(self):\n",
    "        intro = f\"I'm {self.name[0]}, a commerce student with a passion for coding. Previously, I worked in Baji's operations team. Excited to merge finance and technology in my career.\"\n",
    "        return intro\n",
    "    \n",
    "    def ask_question2(self):\n",
    "        question = f\"Thank you {self.name[0]}, May I know age ?\"\n",
    "        return question\n",
    "    \n",
    "    # Applying Encapsulation\n",
    "    def get_age(self):\n",
    "        return self.__age\n",
    "\n",
    "# lets call a class\n",
    "interviewee = Interviw(22, \"Shankhadeep Das\")"
   ]
  },
  {
   "cell_type": "code",
   "execution_count": 5,
   "id": "390a8282-9875-43d2-aec6-8255b0c5b96c",
   "metadata": {},
   "outputs": [
    {
     "data": {
      "text/plain": [
       "'Hi Shankhadeep, Welcome to our company. Now please give me a brief intro of your self.'"
      ]
     },
     "execution_count": 5,
     "metadata": {},
     "output_type": "execute_result"
    }
   ],
   "source": [
    "interviewee.ask_question1()"
   ]
  },
  {
   "cell_type": "code",
   "execution_count": 6,
   "id": "9a7a9156-b3c1-41b4-a6ed-bfe42e088bd6",
   "metadata": {},
   "outputs": [
    {
     "data": {
      "text/plain": [
       "\"I'm Shankhadeep, a commerce student with a passion for coding. Previously, I worked in Baji's operations team. Excited to merge finance and technology in my career.\""
      ]
     },
     "execution_count": 6,
     "metadata": {},
     "output_type": "execute_result"
    }
   ],
   "source": [
    "interviewee.introduction()"
   ]
  },
  {
   "cell_type": "code",
   "execution_count": 7,
   "id": "4ed643f5-cf57-4f1b-baf0-d9c5a9e1935c",
   "metadata": {},
   "outputs": [
    {
     "data": {
      "text/plain": [
       "'Thank you Shankhadeep, May I know age ?'"
      ]
     },
     "execution_count": 7,
     "metadata": {},
     "output_type": "execute_result"
    }
   ],
   "source": [
    "interviewee.ask_question2()"
   ]
  },
  {
   "cell_type": "code",
   "execution_count": 8,
   "id": "ac015207-97cb-419b-b62d-786063bf3d55",
   "metadata": {},
   "outputs": [
    {
     "data": {
      "text/plain": [
       "22"
      ]
     },
     "execution_count": 8,
     "metadata": {},
     "output_type": "execute_result"
    }
   ],
   "source": [
    "interviewee.get_age()"
   ]
  },
  {
   "cell_type": "markdown",
   "id": "d16e195e-a9ed-4911-ab1d-6be15d649b7b",
   "metadata": {},
   "source": [
    "### Q3. What is abc module in python? Why is it used?"
   ]
  },
  {
   "cell_type": "markdown",
   "id": "d53fc6f2-88ed-4474-a335-0ef9c82a3e02",
   "metadata": {},
   "source": [
    "The \"abc\" module in Python is used to create abstract base classes, which serve as a blueprint for a subclass.\n",
    "This helps to clarify and focus on what kind of functions or methods you want in your code, and it helps to ensure a common interface for related classes."
   ]
  },
  {
   "cell_type": "markdown",
   "id": "87fb1865-057d-4053-9d1f-04cd134ff1c7",
   "metadata": {},
   "source": [
    "### Q4. How can we achieve data abstraction?"
   ]
  },
  {
   "cell_type": "markdown",
   "id": "ddbf28dc-1202-462d-af41-206e7b6fd6ea",
   "metadata": {},
   "source": [
    "Using the abc module then call \"@abc.abstractmethod\". Using this decorator we can implement implementations in a specific manner."
   ]
  },
  {
   "cell_type": "markdown",
   "id": "08883480-fb7f-49bc-8a09-47cca46b678e",
   "metadata": {},
   "source": [
    "### Q5. Can we create an instance of an abstract class? Explain your answer."
   ]
  },
  {
   "cell_type": "markdown",
   "id": "75a88782-daff-4d30-82b2-55b8c06dace2",
   "metadata": {},
   "source": [
    "No, we can't.\n",
    "\n",
    "Explaination :\n",
    "    In the context of abstraction, it cannot be instantiated; instead, classes and objects are created to represent specific instances of abstract concepts."
   ]
  }
 ],
 "metadata": {
  "kernelspec": {
   "display_name": "Python 3 (ipykernel)",
   "language": "python",
   "name": "python3"
  },
  "language_info": {
   "codemirror_mode": {
    "name": "ipython",
    "version": 3
   },
   "file_extension": ".py",
   "mimetype": "text/x-python",
   "name": "python",
   "nbconvert_exporter": "python",
   "pygments_lexer": "ipython3",
   "version": "3.10.8"
  }
 },
 "nbformat": 4,
 "nbformat_minor": 5
}
