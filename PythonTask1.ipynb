{
 "cells": [
  {
   "cell_type": "markdown",
   "id": "7caf0eaa-cd23-4137-8d15-9bc8936a46c0",
   "metadata": {},
   "source": [
    "Q1. Create a function which will take a list as an argument and return the product of all the numbers\n",
    "after creating a flat list.\n",
    "Use the below-given list as an argument for your function.\n",
    "list1 = [1,2,3,4, [44,55,66, True], False, (34,56,78,89,34), {1,2,3,3,2,1}, {1:34, \"key2\": [55, 67, 78, 89], 4: (45,\n",
    "22, 61, 34)}, [56, 'data science'], 'Machine Learning']\n",
    "Note: you must extract numeric keys and values of the dictionary also."
   ]
  },
  {
   "cell_type": "code",
   "execution_count": 6,
   "id": "5f79a7b5-aa21-40db-8563-a7433bf9a7d3",
   "metadata": {},
   "outputs": [
    {
     "name": "stdout",
     "output_type": "stream",
     "text": [
      "0\n"
     ]
    }
   ],
   "source": [
    "list1 = [1,2,3,4, [44,55,66, True], False, (34,56,78,89,34), {1,2,3,3,2,1}, {1:34, \"key2\": [55, 67, 78, 89], 4: (45, 22, 61, 34)}, [56, 'data science'], 'Machine Learning']\n",
    "\n",
    "class ProductList:\n",
    "    def __init__(self, ls):\n",
    "        self.ls = ls\n",
    "        self.flat_list = []\n",
    "\n",
    "    def flat_process(self, item):\n",
    "        if isinstance(item, (int, float)):\n",
    "            self.flat_list.append(item)\n",
    "        elif isinstance(item, list):\n",
    "            for sub in item:\n",
    "                self.flat_process(sub)\n",
    "        elif isinstance(item, dict):\n",
    "            for k, y  in item.items():\n",
    "                self.flat_process(k)\n",
    "                self.flat_process(y)\n",
    "        elif isinstance(item, tuple):\n",
    "            for sub in item:\n",
    "                self.flat_process(sub)\n",
    "\n",
    "    def prod_cal(self):\n",
    "        self.flat_process(self.ls)\n",
    "        product = 1 \n",
    "        for n in self.flat_list:\n",
    "            product *= n\n",
    "\n",
    "        return product\n",
    "\n",
    "processor = ProductList(list1)\n",
    "print(processor.prod_cal())"
   ]
  },
  {
   "cell_type": "markdown",
   "id": "82de3d05-6d53-4217-aade-1306dad45590",
   "metadata": {},
   "source": [
    "Q2. Write a python program for encrypting a message sent to you by your friend. The logic of encryption\n",
    "should be such that, for a the output should be z. For b, the output should be y. For c, the output should\n",
    "be x respectively. Also, the whitespace should be replaced with a dollar sign. Keep the punctuation\n",
    "marks unchanged.\n",
    "Input Sentence: I want to become a Data Scientist.\n",
    "Encrypt the above input sentence using the program you just created."
   ]
  },
  {
   "cell_type": "code",
   "execution_count": 7,
   "id": "d57e2187-8ffb-4553-a596-b2616373c388",
   "metadata": {},
   "outputs": [
    {
     "name": "stdin",
     "output_type": "stream",
     "text": [
      "Write your message for encryption:  I want to become a Data Scientest.\n"
     ]
    },
    {
     "name": "stdout",
     "output_type": "stream",
     "text": [
      "-------------------------------------------------------------------------\n",
      "Here is your enrypted message : -oF*JvovdoHQ@d_Qo*oV*v*oD@~QJvQcv.\n"
     ]
    }
   ],
   "source": [
    "import random\n",
    "\n",
    "def encryption(message):\n",
    "    original_chars = 'abcdefghijklmnopqrstuvwxyzABCDEFGHIJKLMNOPQRSTUVWXYZ !@#$%^&*~_+/*-'\n",
    "    shuffled_chars = list(original_chars)\n",
    "    random.shuffle(shuffled_chars)\n",
    "\n",
    "    encrypted_msg = \"\"\n",
    "    for char in message:\n",
    "        if char in original_chars:\n",
    "            char_index = original_chars.index(char)\n",
    "            encrypt = shuffled_chars[char_index]\n",
    "        else:\n",
    "            encrypt = char\n",
    "        encrypted_msg += encrypt\n",
    "    \n",
    "    return encrypted_msg\n",
    "\n",
    "user_message = input(\"Write your message for encryption: \")\n",
    "print(\"-------------------------------------------------------------------------\")\n",
    "print(f\"Here is your enrypted message : {encryption(user_message)}\")"
   ]
  }
 ],
 "metadata": {
  "kernelspec": {
   "display_name": "Python 3 (ipykernel)",
   "language": "python",
   "name": "python3"
  },
  "language_info": {
   "codemirror_mode": {
    "name": "ipython",
    "version": 3
   },
   "file_extension": ".py",
   "mimetype": "text/x-python",
   "name": "python",
   "nbconvert_exporter": "python",
   "pygments_lexer": "ipython3",
   "version": "3.10.8"
  }
 },
 "nbformat": 4,
 "nbformat_minor": 5
}
