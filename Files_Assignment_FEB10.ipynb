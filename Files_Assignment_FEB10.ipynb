{
 "cells": [
  {
   "cell_type": "markdown",
   "id": "6b86e750-c323-4f39-899a-e4200fbf7090",
   "metadata": {},
   "source": [
    "### Q1. Which function is used to open a file? What are the different modes of opening a file? Explain each mode of file opening."
   ]
  },
  {
   "cell_type": "markdown",
   "id": "60bde843-8bfb-470d-a393-b04433aaa466",
   "metadata": {},
   "source": [
    "The open() function is used to open a file.\n",
    "\n",
    "##### There are many type of different mode of opening a file, such as -\n",
    "\n",
    "- Read (r): Opens for reading, doesn't modify.\n",
    "- Write (w): Opens for writing, truncates or creates.\n",
    "- Append (a): Opens for writing, appends or creates.\n",
    "- Read and Write (r+): Allows reading and writing.\n",
    "- Write and Read (w+): Opens for both, truncates or creates.\n",
    "- Append and Read (a+): Allows both, appends or creates.\n",
    "- Binary Mode (b): Treats as binary data.\n",
    "- Exclusive Creation (x): Write-only, creates if not exist, errors if exists.\n"
   ]
  },
  {
   "cell_type": "markdown",
   "id": "36377b2b-a772-4d1f-bd98-b9f0e0bc1816",
   "metadata": {},
   "source": [
    "### Q2. Why close() function is used? Why is it important to close a file?"
   ]
  },
  {
   "cell_type": "markdown",
   "id": "4b8c4e8a-a87f-4f35-b73f-313056374268",
   "metadata": {},
   "source": [
    "The close() function is used to terminate access to files or recourses. It releases system resourses and save data intergrity, also prevent resource leak and allows other processes to access the fie.\n",
    " \n",
    "It is important to close a file because failing to close the file can be threatfull, lead to resources leaks, incomplete writes and hinder access by other processes."
   ]
  },
  {
   "cell_type": "markdown",
   "id": "c23d680f-258a-462f-96b5-ea51f8f70ed4",
   "metadata": {},
   "source": [
    "### Q3. Write a python program to create a text file. Write ‘I want to become a Data Scientist’ in that file. Then close the file. Open this file and read the content of the file."
   ]
  },
  {
   "cell_type": "code",
   "execution_count": 2,
   "id": "90c43135-54d6-42eb-9477-31a9dd008ead",
   "metadata": {},
   "outputs": [
    {
     "data": {
      "text/plain": [
       "'I want to become a Data Scientist'"
      ]
     },
     "execution_count": 2,
     "metadata": {},
     "output_type": "execute_result"
    }
   ],
   "source": [
    "file = open(\"test.txt\", \"w\")\n",
    "file.write(\"I want to become a Data Scientist\")\n",
    "file.close()\n",
    "file = open(\"test.txt\", \"r\")\n",
    "file.read()"
   ]
  },
  {
   "cell_type": "markdown",
   "id": "d39fe506-b7c6-4e23-bd1d-57244d19f473",
   "metadata": {},
   "source": [
    "### Q4. Explain the following with python code: read(), readline() and readlines()."
   ]
  },
  {
   "cell_type": "markdown",
   "id": "af8f149f-37f9-4010-9762-2762d8f1640d",
   "metadata": {},
   "source": [
    "Here is the explaination with examples. -"
   ]
  },
  {
   "cell_type": "code",
   "execution_count": 9,
   "id": "106976d2-5005-45db-bd47-009a59742506",
   "metadata": {},
   "outputs": [],
   "source": [
    "with open(\"q4.txt\", \"w\") as file :\n",
    "    file.write(\"The serene morning sun cast a warm glow on the quiet town. Birds chirped harmoniously in the treetops, creating a soothing melody. People strolled along the cobblestone streets, sipping their coffee. A distant train whistle added a touch of nostalgia to the atmosphere. It was a perfect day to embrace life's simple pleasures.\")\n",
    "file = open(\"q4.txt\", \"r\")"
   ]
  },
  {
   "cell_type": "markdown",
   "id": "f42b3818-5d87-44e7-a802-648bd32d5402",
   "metadata": {},
   "source": [
    "#### The read() function helps to only reads entire file as a string."
   ]
  },
  {
   "cell_type": "code",
   "execution_count": 10,
   "id": "a814da11-83e5-4b23-a0c4-6df3c086a002",
   "metadata": {},
   "outputs": [
    {
     "data": {
      "text/plain": [
       "\"The serene morning sun cast a warm glow on the quiet town. Birds chirped harmoniously in the treetops, creating a soothing melody. People strolled along the cobblestone streets, sipping their coffee. A distant train whistle added a touch of nostalgia to the atmosphere. It was a perfect day to embrace life's simple pleasures.\""
      ]
     },
     "execution_count": 10,
     "metadata": {},
     "output_type": "execute_result"
    }
   ],
   "source": [
    "file.read() # read()"
   ]
  },
  {
   "cell_type": "markdown",
   "id": "a12407fe-263f-40bd-92c4-042c54063431",
   "metadata": {},
   "source": [
    "#### The readline() function helps to reads a single line from the file and moves the file pointer to the next line."
   ]
  },
  {
   "cell_type": "code",
   "execution_count": 6,
   "id": "3e3e0b1a-4acc-41fe-be06-676fd6d94d78",
   "metadata": {},
   "outputs": [
    {
     "data": {
      "text/plain": [
       "\"Birds chirped harmoniously in the treetops, creating a soothing melody. People strolled along the cobblestone streets, sipping their coffee. A distant train whistle added a touch of nostalgia to the atmosphere. It was a perfect day to embrace life's simple pleasures.\""
      ]
     },
     "execution_count": 16,
     "metadata": {},
     "output_type": "execute_result"
    }
   ],
   "source": [
    "# for run this at first set your pointer to 0th or where you want that position n th possition using seek() function\n",
    "file.seek(10)\n",
    "file.readline() # readline()"
   ]
  },
  {
   "cell_type": "markdown",
   "id": "8647607a-7dbf-4ecc-8a1f-f9276d55742a",
   "metadata": {},
   "source": [
    "#### The read() function helps to only reads all lines into a list."
   ]
  },
  {
   "cell_type": "code",
   "execution_count": 22,
   "id": "bf4707e7-9a54-497b-9867-025a0fbb1146",
   "metadata": {},
   "outputs": [
    {
     "data": {
      "text/plain": [
       "[\"The serene morning sun cast a warm glow on the quiet town. Birds chirped harmoniously in the treetops, creating a soothing melody. People strolled along the cobblestone streets, sipping their coffee. A distant train whistle added a touch of nostalgia to the atmosphere. It was a perfect day to embrace life's simple pleasures.\"]"
      ]
     },
     "execution_count": 22,
     "metadata": {},
     "output_type": "execute_result"
    }
   ],
   "source": [
    "# Same as for this also, at first set your pointer using seel().\n",
    "file.seek(0)\n",
    "file.readlines() #readlines()"
   ]
  },
  {
   "cell_type": "markdown",
   "id": "6ddbe38b-fb9c-494c-8f56-5649514179c1",
   "metadata": {},
   "source": [
    "### Q5. Explain why with statement is used with open(). What is the advantage of using with statement and open() together?"
   ]
  },
  {
   "cell_type": "markdown",
   "id": "1215bbba-551a-4652-9ad4-ccd2067ffce2",
   "metadata": {},
   "source": [
    "Using \"with\" statement with \"open()\" function helps ensure proper resource management while working files. It automatically manage the opening and closing of file which helps to close the file properly even in presenece of error.\n",
    " \n",
    "##### Basically for automatic resource management and the exception handling or error handling, this two main advantages of using with statement and open() together."
   ]
  },
  {
   "cell_type": "markdown",
   "id": "082c02f0-9606-4f70-9757-4d0f4a1be323",
   "metadata": {},
   "source": [
    "### Q6. Explain the write() and writelines() functions. Give a suitable example."
   ]
  },
  {
   "cell_type": "markdown",
   "id": "e6127a3f-94c0-415a-b7be-e90591e01802",
   "metadata": {},
   "source": [
    "The \"write()\" function used to write a single string or text in a file, while \"writelines()\" used helps to write list of strings in which each string representing a line. Basically \"write()\" used for overwriting the file and \"writelines()\" used for appending strings on the file.\n",
    " \n",
    "#### Example :\n",
    "\n",
    "##### The write() function"
   ]
  },
  {
   "cell_type": "code",
   "execution_count": 23,
   "id": "7b3a33bb-2eda-4dec-9742-35acb1dcf596",
   "metadata": {},
   "outputs": [
    {
     "name": "stdout",
     "output_type": "stream",
     "text": [
      "I want to completed this course purely.\n"
     ]
    }
   ],
   "source": [
    "# Example of write() function. \n",
    "with open(\"test2.txt\", \"w\") as file :\n",
    "    file.write(\"I want to completed this course purely.\")\n",
    "with open(\"test2.txt\", \"r\") as file :\n",
    "    print(file.read())"
   ]
  },
  {
   "cell_type": "code",
   "execution_count": 25,
   "id": "9576ff67-7652-46d0-8660-cea63ba33cf7",
   "metadata": {},
   "outputs": [
    {
     "name": "stdout",
     "output_type": "stream",
     "text": [
      "I believe I can do it.\n"
     ]
    }
   ],
   "source": [
    "# Example of write() function. Here this function overwrite the previous one.\n",
    "with open(\"test2.txt\", \"w\") as file :\n",
    "    file.write(\"I believe I can do it.\")\n",
    "with open(\"test2.txt\", \"r\") as file :\n",
    "    print(file.read())"
   ]
  },
  {
   "cell_type": "code",
   "execution_count": 36,
   "id": "25776485-bff4-4e15-8a50-aef477b0331c",
   "metadata": {},
   "outputs": [
    {
     "name": "stdout",
     "output_type": "stream",
     "text": [
      "I believe I can do it.\n",
      "I can do it.\n",
      "Do it.Now\n"
     ]
    }
   ],
   "source": [
    "# Example of writelines() function. Here this function helps to write list of strings withour overwriting this.\n",
    "with open(\"test4.txt\", \"w\") as file :\n",
    "    list1 = [\"I believe I can do it.\\n\", \"I can do it.\\n\", \"Do it.Now\"]\n",
    "    file.writelines(list1)\n",
    "with open(\"test4.txt\", \"r\") as file :\n",
    "    print(file.read())"
   ]
  }
 ],
 "metadata": {
  "kernelspec": {
   "display_name": "Python 3 (ipykernel)",
   "language": "python",
   "name": "python3"
  },
  "language_info": {
   "codemirror_mode": {
    "name": "ipython",
    "version": 3
   },
   "file_extension": ".py",
   "mimetype": "text/x-python",
   "name": "python",
   "nbconvert_exporter": "python",
   "pygments_lexer": "ipython3",
   "version": "3.10.8"
  }
 },
 "nbformat": 4,
 "nbformat_minor": 5
}
