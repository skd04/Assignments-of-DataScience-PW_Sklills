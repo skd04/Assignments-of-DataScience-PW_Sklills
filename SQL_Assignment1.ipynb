{
 "cells": [
  {
   "cell_type": "markdown",
   "id": "036b8afb-3210-4c49-8ceb-2fa753993219",
   "metadata": {},
   "source": [
    "### Q1. What is a database? Differentiate between SQL and NoSQL databases."
   ]
  },
  {
   "cell_type": "markdown",
   "id": "7ff13e3f-340a-4e9c-bbaa-204418e5e763",
   "metadata": {
    "tags": []
   },
   "source": [
    "*A database is a structured collection of organized data that is easily accessible, managed, and updated. It helps keep data structured and make it easy for computers to find and use the information. They provide a sytematic method for data storage, retrieval, and management, enabling efficient data handling for businesses and organizations.* \n",
    "\n",
    "#### Difference between SQL and NoSQL databases :\n",
    "\n",
    "-  SQL databases, like MySQL and PostgreSQL, are structured and use a fixed schema, suitable for complex queries and transactions.\n",
    "\n",
    "- NoSQL databases, such as MongoDB and Cassandra, are schema-less, allowing flexibility with unstructured data, making them suitable for scalability and dynamic data models.\n",
    "\n",
    "- SQL databases are ideal for complex transactions and relationships, while NoSQL databases are chosen for distributed data and scalability, often used in modern web applications with evolving data needs."
   ]
  },
  {
   "cell_type": "markdown",
   "id": "bfe12e62-6bee-4619-96ed-7379391c0d18",
   "metadata": {
    "tags": []
   },
   "source": [
    "### Q2. What is DDL? Explain why CREATE, DROP, ALTER, and TRUNCATE are used with an example."
   ]
  },
  {
   "cell_type": "markdown",
   "id": "e0e16814-f20c-4285-922f-b7bc8f06d511",
   "metadata": {
    "tags": []
   },
   "source": [
    "*DDL, or Data Definition Language, is an aspect of SQL used to manage database structure. It helps to create, modify, or delete a database blueprint, specifying how data is organized, what types of data to store, and rules for keeping things organized. It contains commands like CREATE, ALTER, DROP and TRUCATE.*\n",
    "\n",
    "- ##### CREATE : \n",
    "    _Used to build or create new database objects._\n",
    "    \n",
    "     Exp : \"CREATE TABLE MyCars (Brand VARCHAR(20), Model VARCHAR(50), Price(Rs.) INT);\", to create a table named MyCars with columns Brand, Model and Price(Rs.).\n",
    "     \n",
    "- ##### DROP :\n",
    "    _Deletes or erase existing database objects._\n",
    "    \n",
    "    Exp : \"DROP TABLE MyCars;\", to remove the entire MyCars table from the database.\n",
    "    \n",
    "- ##### ALTER :\n",
    "    _Modifies the structure of an existing database objects._\n",
    "    \n",
    "    Exp : \"ALTER TABLE MyCars ADD COLUMN Country_Origin VARCHAR(25);\", to modify or adding something into MyCars table.\n",
    "    \n",
    "- ##### TRUNCATE :\n",
    "    _Removes all records from the table without deleting the table._\n",
    "    \n",
    "    Exp : \"TRUNCATE TABLE MyCars;\", to remove all data and empty the MyCars table.  "
   ]
  },
  {
   "cell_type": "markdown",
   "id": "e9d097e0-6bee-427d-bff0-ecf217998e0c",
   "metadata": {},
   "source": [
    "### Q3. What is DML? Explain INSERT, UPDATE, and DELETE with an example."
   ]
  },
  {
   "cell_type": "markdown",
   "id": "495ef798-29f7-4730-a630-18fe853117fa",
   "metadata": {},
   "source": [
    "*DML stands for Data Manupulation Language. It helps to deals with the manupulation of data stored in relational database. DML includes basic operations: adding new data (INSERT), changing existing data (UPDATE) and removing data (DELETE). It's how we manage and modify information stored in a database.*\n",
    "\n",
    "- ##### INSERT : \n",
    "    _Used to add new rows of data to a table._\n",
    "    \n",
    "     Exp : \"INSERT INTO MyCars (Country_Origin) VALUES (\"UK\"); \"\n",
    "     \n",
    "- ##### UPDATE :\n",
    "    _This command helps to modify the existing data._\n",
    "    \n",
    "    Exp : \"UPDATE MyCars SET Country Origin = 'Japan' WHERE Brand = Toyota; \".\n",
    "    \n",
    "- ##### DELETE :\n",
    "    _Removes rows from the table based on specific condition._\n",
    "    \n",
    "    Exp : \"DELETE FROM MyCars WHERE Price(Rs.) < 600000; \""
   ]
  },
  {
   "cell_type": "markdown",
   "id": "719952c7-4821-41f2-aa8a-5033c555d4f9",
   "metadata": {},
   "source": [
    "### Q4. What is DQL? Explain SELECT with an example."
   ]
  },
  {
   "cell_type": "markdown",
   "id": "6395ebdc-335c-4caa-a297-0e75192dedfa",
   "metadata": {},
   "source": [
    "*DQL (Data Query Language) is a part of SQL (Structured Query Language) that helps you ask questions or request information from a database. It's like asking the database to give you specific data based on certain conditions.*\n",
    "\n",
    "- ##### SELECT :\n",
    "  _The main command used for this purpose is called SELECT, where you specify what data you want and from which table._\n",
    "  \n",
    "  Exp : \" SELECT Brand, Model FROM MyCars; \""
   ]
  },
  {
   "cell_type": "markdown",
   "id": "c159fb8d-2e95-4a41-b50a-df2026c37f59",
   "metadata": {},
   "source": [
    "### Q5. Explain Primary Key and Foreign Key."
   ]
  },
  {
   "cell_type": "markdown",
   "id": "e2e407e9-d86d-4ec9-845d-5c095c3bee1f",
   "metadata": {},
   "source": [
    "##### Primary Key:\n",
    "*It helps to identifies a unique ID for each row in a table. It's like a fingerprint that identifies each individual in a database.*\n",
    "\n",
    "#### Foreign Key :\n",
    "*It helps to connect two tables with one table. A foreign key is like a reference to the unique ID(Primary key) in another table. Imagine you hve information in one table that relates to another table.*"
   ]
  },
  {
   "cell_type": "markdown",
   "id": "67db60fd-1c17-4456-a6c0-d4588d89da04",
   "metadata": {},
   "source": [
    "### Q6. Write a python code to connect MySQL to python. Explain the cursor() and execute() method."
   ]
  },
  {
   "cell_type": "raw",
   "id": "c5b6b3b2-89b4-4ebd-bee1-71952489b8bb",
   "metadata": {},
   "source": [
    "import mysql.connector\n",
    "# import mysql connector\n",
    "\n",
    "# Set connection with the SQL server\n",
    "mydb = mysql.connector.connect(\n",
    "  host = \"localhost\",\n",
    "  user = \"abc\",\n",
    "  password = \"password\"\n",
    ")\n",
    "\n",
    "# Create pointer to manage the data\n",
    "mycursor = mydb.cursor()\n",
    "\n",
    "# Now all set, ready to execute first SQL code\n",
    "mycursor.execute(\"CREATE DATABASE Information\")"
   ]
  },
  {
   "cell_type": "markdown",
   "id": "c3b5c4f3-4050-4956-8c22-3c29f5554b1b",
   "metadata": {},
   "source": [
    "_Cursor and execute, are a methods which are commonly ued when working with database -_\n",
    "#### curson(): \n",
    "_By cursor() basically we can set a pointer in a database. It helps you to navigate or point to a specifiv location in mentioned database._\n",
    "#### execute():\n",
    "_By this method we can execute SQL queries or commands in a databse through Python._\n",
    "    \n",
    "##### Example: \n",
    "_Let's say you have a book (database) with lots of stories (data). Now you are a daily reader of that book and you have a stick (cursor), which helps you mark the last position you read. Then when you read again your \"eyes and mouth\" (execute) will help you move forward._"
   ]
  },
  {
   "cell_type": "markdown",
   "id": "ed7573f6-257b-44f1-bfad-7a820ae7e6c0",
   "metadata": {},
   "source": [
    "### Q7. Give the order of execution of SQL clauses in an SQL query."
   ]
  },
  {
   "cell_type": "markdown",
   "id": "cf900c56-f247-4dc9-bfa9-7103c19c4c8c",
   "metadata": {},
   "source": [
    "_The order of execution of SQL clauses and SQL quesry - \n",
    "\n",
    "##### 1. FROM\n",
    "##### 2. WHERE\n",
    "##### 3. GROUP BY\n",
    "##### 4. HAVING\n",
    "##### 5. SELECT\n",
    "##### 6. ORDER BY\n",
    "##### 7. LIMIT/OFFSET"
   ]
  }
 ],
 "metadata": {
  "kernelspec": {
   "display_name": "Python 3 (ipykernel)",
   "language": "python",
   "name": "python3"
  },
  "language_info": {
   "codemirror_mode": {
    "name": "ipython",
    "version": 3
   },
   "file_extension": ".py",
   "mimetype": "text/x-python",
   "name": "python",
   "nbconvert_exporter": "python",
   "pygments_lexer": "ipython3",
   "version": "3.10.8"
  }
 },
 "nbformat": 4,
 "nbformat_minor": 5
}
