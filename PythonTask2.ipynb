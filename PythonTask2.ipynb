{
 "cells": [
  {
   "cell_type": "markdown",
   "id": "d5109093-c21d-440d-897e-2d7160293a76",
   "metadata": {},
   "source": [
    "Q1. You are writing code for a company. The requirement of the company is that you create a python\n",
    "function that will check whether the password entered by the user is correct or not. The function should\n",
    "take the password as input and return the string “Valid Password” if the entered password follows the\n",
    "below-given password guidelines else it should return “Invalid Password”.\n",
    "\n",
    "        Note: \n",
    "        1. The Password should contain at least two uppercase letters and at least two lowercase letters.\n",
    "        2. The Password should contain at least a number and three special characters.\n",
    "        3. The length of the password should be 10 characters long."
   ]
  },
  {
   "cell_type": "code",
   "execution_count": 1,
   "id": "6766a1c0-e08d-45e5-adb3-69e3c7d932a2",
   "metadata": {},
   "outputs": [
    {
     "name": "stdin",
     "output_type": "stream",
     "text": [
      "Please check your password: \n",
      " PassWord#@1!\n"
     ]
    },
    {
     "name": "stdout",
     "output_type": "stream",
     "text": [
      "Warning! Invalid Password\n"
     ]
    }
   ],
   "source": [
    "def password(pwd):\n",
    "    uppercase = sum(1 for char in pwd if char.isupper())\n",
    "    lowercase = sum(1 for char in pwd if char.isupper())\n",
    "    \n",
    "    digit = sum(1 for char in pwd if char.isdigit())\n",
    "    special_char = sum(1 for char in pwd if char in \"!@#$%^&*\")\n",
    "    \n",
    "    if uppercase <= 2 and lowercase <= 2 and digit <= 1 and special_char <= 3 :\n",
    "        return \"Warning! Invalid Password\"\n",
    "    else:\n",
    "        return \"Valid Password\"\n",
    "\n",
    "password_check = input(\"Please check your password: \\n\")\n",
    "\n",
    "print(password(password_check))"
   ]
  },
  {
   "cell_type": "markdown",
   "id": "5c2725f0-0e39-426e-9181-294fe1e14cf4",
   "metadata": {},
   "source": [
    "___________________________________________________________________________________________\n",
    "Q2. _Solve the below-given questions using at least one of the following:_\n",
    "1. Lambda function\n",
    "2. Filter function\n",
    "3. Zap function\n",
    "4. List Comprehension\n",
    "\n",
    "    - Check if the string starts with a particular letter.\n",
    "    - Check if the string is numeric.\n",
    "    - Sort a list of tuples having fruit names and their quantity. [(\"mango\",99),(\"orange\",80), (\"grapes\", 1000)]\n",
    "    - Find the squares of numbers from 1 to 10.\n",
    "    - Find the cube root of numbers from 1 to 10.\n",
    "    - Check if a given number is even.\n",
    "    - Filter odd numbers from the given list.\n",
    "    [1,2,3,4,5,6,7,8,9,10]\n",
    "    - Sort a list of integers into positive and negative integers lists.\n",
    "    [1,2,3,4,5,6,-1,-2,-3,-4,-5,0]"
   ]
  },
  {
   "cell_type": "code",
   "execution_count": 2,
   "id": "db77f6cf-0148-42f8-bfdc-84d008c69e6a",
   "metadata": {},
   "outputs": [
    {
     "name": "stdin",
     "output_type": "stream",
     "text": [
      "Please which letter start with ? \n",
      "Ans:  g\n"
     ]
    },
    {
     "name": "stdout",
     "output_type": "stream",
     "text": [
      "False\n"
     ]
    }
   ],
   "source": [
    "# Check if a given number is even.\n",
    "import random\n",
    "\n",
    "string = \"I want to become a Data Science.\"\n",
    "user_input = input(\"Please which letter start with ? \\nAns: \")\n",
    "letter_check = lambda a, letter: letter in a \n",
    "\n",
    "print(letter_check(string, user_input))"
   ]
  },
  {
   "cell_type": "code",
   "execution_count": 3,
   "id": "d0e70aeb-5f08-47ef-ac59-cc4b0111b458",
   "metadata": {},
   "outputs": [
    {
     "name": "stdin",
     "output_type": "stream",
     "text": [
      "Please which letter start with ? \n",
      "Ans:  2\n"
     ]
    },
    {
     "name": "stdout",
     "output_type": "stream",
     "text": [
      "True\n"
     ]
    }
   ],
   "source": [
    "# Check if a given number is even.\n",
    "string = \"I want to become a Data Science. There 1 no 2 no 3 list - [12,23,65,2,3]\"\n",
    "user_input = input(\"Please which letter start with ? \\nAns: \")\n",
    "letter_check = lambda a, num: num in a\n",
    "\n",
    "print(letter_check(string, user_input))"
   ]
  },
  {
   "cell_type": "code",
   "execution_count": 4,
   "id": "d2a81b1e-7600-469c-a3b2-eb7752178f2a",
   "metadata": {},
   "outputs": [
    {
     "name": "stdout",
     "output_type": "stream",
     "text": [
      "grapes : 1000\n",
      "mango : 99\n",
      "orange : 80\n"
     ]
    }
   ],
   "source": [
    "# Sort a list of tuples having fruit names and their quantity. [(\"mango\",99),(\"orange\",80), (\"grapes\", 1000)]\n",
    "fruits = [(\"mango\",99),(\"orange\",80), (\"grapes\", 1000)]\n",
    "qty = sorted(fruits, key = lambda x : x[1], reverse = True)\n",
    "\n",
    "for k, v in qty:\n",
    "    print(f\"{k} : {v}\")"
   ]
  },
  {
   "cell_type": "code",
   "execution_count": 5,
   "id": "daa9306a-40c1-4ca6-b713-935f4d48be6f",
   "metadata": {},
   "outputs": [
    {
     "name": "stdout",
     "output_type": "stream",
     "text": [
      "List of numbers: [1, 2, 3, 4, 5, 6, 7, 8, 9, 10]\n",
      "\n",
      "Square of list numbers:  [1, 4, 9, 16, 25, 36, 49, 64, 81, 100]\n"
     ]
    }
   ],
   "source": [
    "# Find the squares of numbers from 1 to 10.\n",
    "nums = []\n",
    "\n",
    "for n in range(1,11):\n",
    "    nums.append(n)\n",
    "print(f\"List of numbers: {nums}\")\n",
    "print(\"\\nSquare of list numbers: \", list(map(lambda x: x**2, nums)))"
   ]
  },
  {
   "cell_type": "code",
   "execution_count": 6,
   "id": "a8530065-2b3b-47da-818b-1364e8bc62f5",
   "metadata": {},
   "outputs": [
    {
     "name": "stdout",
     "output_type": "stream",
     "text": [
      "List of numbers: [1, 2, 3, 4, 5, 6, 7, 8, 9, 10]\n",
      "\n",
      "Square of list numbers:  [1.0, 1.26, 1.44, 1.59, 1.71, 1.82, 1.91, 2.0, 2.08, 2.15]\n"
     ]
    }
   ],
   "source": [
    "# Find the cube root of numbers from 1 to 10.\n",
    "nums = []\n",
    "for n in range(1,11):\n",
    "    nums.append(n)\n",
    "print(f\"List of numbers: {nums}\")\n",
    "\n",
    "def cube_root(x):\n",
    "    result = x**(1/3)\n",
    "    return round(result, 2)\n",
    "cube_root\n",
    "print(\"\\nSquare of list numbers: \", list(map(cube_root, nums)))"
   ]
  },
  {
   "cell_type": "code",
   "execution_count": 1,
   "id": "f682f050-10ce-4692-a07a-bc091e23eed3",
   "metadata": {},
   "outputs": [
    {
     "name": "stdin",
     "output_type": "stream",
     "text": [
      "Please put your numbers into the list :  1\n",
      "Please put your numbers into the list :  2\n",
      "Please put your numbers into the list :  3\n",
      "Please put your numbers into the list :  44\n",
      "Please put your numbers into the list :  541\n",
      "Please put your numbers into the list :  636\n",
      "Please put your numbers into the list :  122\n",
      "Please put your numbers into the list :  884\n"
     ]
    },
    {
     "name": "stdout",
     "output_type": "stream",
     "text": [
      "This is your list of number : [1, 2, 3, 44, 541, 636, 122, 884]\n",
      "This is your filtered EVEN numbers : [2, 44, 636, 122, 884]\n"
     ]
    }
   ],
   "source": [
    "# Check if a given number is even\n",
    "\n",
    "nums = []\n",
    "for _ in range(8):\n",
    "    user_input = int(input(\"Please put your numbers into the list : \"))\n",
    "    nums.append(user_input)\n",
    "    \n",
    "evenList = list(filter(lambda x : x % 2 == 0, nums))\n",
    "print(f\"This is your list of number : {nums}\")\n",
    "print(f\"This is your filtered EVEN numbers : {evenList}\")"
   ]
  },
  {
   "cell_type": "code",
   "execution_count": 3,
   "id": "d800fd63-ee3f-4e39-9335-098e1454c60f",
   "metadata": {},
   "outputs": [
    {
     "name": "stdout",
     "output_type": "stream",
     "text": [
      "This is your list of number : [1, 2, 3, 4, 5, 6, 7, 8, 9, 10]\n",
      "This is your filtered EVEN numbers : [1, 3, 5, 7, 9]\n"
     ]
    }
   ],
   "source": [
    "# Filter odd numbers from the given list. [1,2,3,4,5,6,7,8,9,10]\n",
    "\n",
    "num = [1,2,3,4,5,6,7,8,9,10]\n",
    "\n",
    "oddList = list(filter(lambda x : x % 2 != 0, num))\n",
    "\n",
    "print(f\"This is your list of number : {num}\")\n",
    "print(f\"This is your filtered ODD numbers : {oddList}\")"
   ]
  },
  {
   "cell_type": "code",
   "execution_count": 16,
   "id": "c589e120-6c61-4d5b-a292-6d45a9edb1e1",
   "metadata": {},
   "outputs": [
    {
     "name": "stdout",
     "output_type": "stream",
     "text": [
      "Sorted list of numbers: [-5, -4, -3, -2, -1, 0, 1, 2, 3, 4, 5, 6]\n",
      "List of Negative Number : [-5, -4, -3, -2, -1]\n",
      "List of Possitive Numbers : [0, 1, 2, 3, 4, 5, 6]\n"
     ]
    }
   ],
   "source": [
    "# Sort a list of integers into positive and negative integers lists. [1,2,3,4,5,6,-1,-2,-3,-4,-5,0]\n",
    "\n",
    "numbers = [1,2,3,4,5,6,-1,-2,-3,-4,-5,0]\n",
    "\n",
    "sorted_nums = sorted(numbers)\n",
    "\n",
    "filtered_positive = []\n",
    "filtered_negative = []\n",
    "\n",
    "for num in sorted_nums:\n",
    "    if num >= 0:\n",
    "        filtered_positive.append(num)\n",
    "    else:\n",
    "        filtered_negative.append(num)\n",
    "\n",
    "print(f\"Sorted list of numbers: {sorted_nums}\")\n",
    "print(f\"List of Negative Number : {filtered_negative}\\nList of Possitive Numbers : {filtered_positive}\")"
   ]
  }
 ],
 "metadata": {
  "kernelspec": {
   "display_name": "Python 3 (ipykernel)",
   "language": "python",
   "name": "python3"
  },
  "language_info": {
   "codemirror_mode": {
    "name": "ipython",
    "version": 3
   },
   "file_extension": ".py",
   "mimetype": "text/x-python",
   "name": "python",
   "nbconvert_exporter": "python",
   "pygments_lexer": "ipython3",
   "version": "3.10.8"
  }
 },
 "nbformat": 4,
 "nbformat_minor": 5
}
