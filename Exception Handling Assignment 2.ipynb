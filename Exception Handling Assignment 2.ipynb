{
 "cells": [
  {
   "cell_type": "markdown",
   "id": "8c84b8cd-a3d6-4920-8786-8f988d0e3293",
   "metadata": {},
   "source": [
    "### Q1. Explain why we have to use the Exception class while creating a Custom Exception.\n",
    "#### Note: Here Exception class refers to the base class for all the exceptions."
   ]
  },
  {
   "cell_type": "markdown",
   "id": "ca36aa00-84a7-43b6-ab09-19a63caf3059",
   "metadata": {},
   "source": [
    "The reason behind we use of an Exception class while creating a Custom Exception is that it is helpful to handle any kind of Errors or Disruption in a program. Basically, it provides a common structure and features that make it easier to work with and manage exceptions in our code. This makes it simpler to handle exceptions uniformly in our code. This makes the code more clear and organized to handle various types of errors."
   ]
  },
  {
   "cell_type": "markdown",
   "id": "345aea20-9070-4cb6-9613-d331e0b8e418",
   "metadata": {},
   "source": [
    "### Q2. Write a python program to print Python Exception Hierarchy."
   ]
  },
  {
   "cell_type": "code",
   "execution_count": 1,
   "id": "19129b0e-8dce-4947-8a0c-7ebdd3d97813",
   "metadata": {},
   "outputs": [
    {
     "name": "stdout",
     "output_type": "stream",
     "text": [
      "All type of Python Exception Hierarchy: \n",
      "- ArithmeticError\n",
      "- AssertionError\n",
      "- AttributeError\n",
      "- BaseException\n",
      "- BlockingIOError\n",
      "- BrokenPipeError\n",
      "- BufferError\n",
      "- ChildProcessError\n",
      "- ConnectionAbortedError\n",
      "- ConnectionError\n",
      "- ConnectionRefusedError\n",
      "- ConnectionResetError\n",
      "- EOFError\n",
      "- EnvironmentError\n",
      "- Exception\n",
      "- FileExistsError\n",
      "- FileNotFoundError\n",
      "- FloatingPointError\n",
      "- IOError\n",
      "- ImportError\n",
      "- IndentationError\n",
      "- IndexError\n",
      "- InterruptedError\n",
      "- IsADirectoryError\n",
      "- KeyError\n",
      "- LookupError\n",
      "- MemoryError\n",
      "- ModuleNotFoundError\n",
      "- NameError\n",
      "- NotADirectoryError\n",
      "- NotImplementedError\n",
      "- OSError\n",
      "- OverflowError\n",
      "- PermissionError\n",
      "- ProcessLookupError\n",
      "- RecursionError\n",
      "- ReferenceError\n",
      "- RuntimeError\n",
      "- SyntaxError\n",
      "- SystemError\n",
      "- TabError\n",
      "- TimeoutError\n",
      "- TypeError\n",
      "- UnboundLocalError\n",
      "- UnicodeDecodeError\n",
      "- UnicodeEncodeError\n",
      "- UnicodeError\n",
      "- UnicodeTranslateError\n",
      "- ValueError\n",
      "- ZeroDivisionError\n"
     ]
    }
   ],
   "source": [
    "import logging # Import Logging to log my data.\n",
    "# Create log file to store data.\n",
    "logging.basicConfig( filename=\"hierarchy.log\" , level = logging.INFO , format = \"%(asctime)s %(message)s\" )\n",
    "\n",
    "# Make a head note \n",
    "print(\"All type of Python Exception Hierarchy: \") \n",
    "logging.info(\"Loading all types of Exceptions.\") # Give a stament for understanding\n",
    "for exc_name in dir(__builtin__): # Detect all data one by one\n",
    "    if \"Error\" in exc_name or \"Exception\" in exc_name: # Extract all name of Errors from data\n",
    "        print(f\"- {exc_name}\") # print for show in console\n",
    "        logging.info(f\"* {exc_name}\") # Store all data\n",
    "logging.shutdown() # End must shutdown the file"
   ]
  },
  {
   "cell_type": "markdown",
   "id": "80d265b4-4760-4cc2-8974-61c354c4e7c1",
   "metadata": {},
   "source": [
    "### Q3. What errors are defined in the ArithmeticError class? Explain any two with an example."
   ]
  },
  {
   "cell_type": "markdown",
   "id": "ec901df2-6f3b-4fae-a3ce-5b51c70c16ee",
   "metadata": {},
   "source": [
    "Any tyoes of arithmetic operations related errors are defined in the ArithmeticError class, which helps to handle invalid arithmatics problems. There two examples -"
   ]
  },
  {
   "cell_type": "code",
   "execution_count": 1,
   "id": "1c22b8cf-5253-4ba5-bd21-3212ac844cd1",
   "metadata": {},
   "outputs": [
    {
     "name": "stdout",
     "output_type": "stream",
     "text": [
      "Example of Errors:\n",
      "Example of handling Zero divison error -\n",
      "ZeroError : No number can't be divisible by 0.\n",
      "Example of handling float pointing error -\n",
      "Error : division can't be process in float data type.\n"
     ]
    }
   ],
   "source": [
    "import logging # Import Logging to log my data.\n",
    "# Create log file to store data.\n",
    "logging.basicConfig( filename=\"arithmatic.log\" , level = logging.INFO , format = \"%(asctime)s %(message)s\" )\n",
    "\n",
    "# Store basic data as per User\n",
    "\n",
    "logging.info(\"Example of Errors.\") # Give a statement for understanding\n",
    "print(\"Example of Errors:\")\n",
    "# Example of ZeroDivisionError\n",
    "try :\n",
    "    result = 10 / 0 # Lets take a 0 division example\n",
    "except ZeroDivisionError as z :\n",
    "    print(\"Example of handling Zero divison error -\") \n",
    "    print(f\"ZeroError : No number can't be divisible by 0.\") \n",
    "    logging.error(f\"ZeroError : No number can't be divisible by 0.\") \n",
    "    \n",
    "# Example of FloatingPointError\n",
    "try :\n",
    "    result1 = 1.0 / 0.0  # Lets take a float division example\n",
    "except ZeroDivisionError as f:\n",
    "    print(\"Example of handling float pointing error -\") \n",
    "    print(f\"Error : division can't be process in float data type.\") \n",
    "    logging.error(f\"DivisionError : division can't be process in float data type.\") \n",
    "\n",
    "# Finally clear resources\n",
    "finally :\n",
    "    logging.info(\"Operation Successful.\")\n",
    "    logging.shutdown() # End must shutdown the file"
   ]
  },
  {
   "cell_type": "markdown",
   "id": "30651b4c-0284-4991-9712-e66d68273242",
   "metadata": {},
   "source": [
    "### Q4. Why LookupError class is used? Explain with an example KeyError and IndexError."
   ]
  },
  {
   "cell_type": "markdown",
   "id": "0c98f8ea-8a58-4952-8b1a-4618fda629f9",
   "metadata": {},
   "source": [
    "_The \"LookupError\" class is a base class for exception handling, primarily used when trying to access elements or values in sequences or mappings using keys or indices.It provides a way to catch the exceptions and It ensures our code can deal with situations where the things we're looking for might not be there or might be in the wrong place, making our code more reliable._\n",
    "\n",
    "##### Example:"
   ]
  },
  {
   "cell_type": "code",
   "execution_count": 22,
   "id": "6473eb68-921c-4014-8e1e-2cc2e7505889",
   "metadata": {},
   "outputs": [
    {
     "name": "stdin",
     "output_type": "stream",
     "text": [
      "Enter what type of data you want : EmaIL\n"
     ]
    },
    {
     "name": "stdout",
     "output_type": "stream",
     "text": [
      "Your key value : shankha@gmail.com\n"
     ]
    },
    {
     "name": "stdin",
     "output_type": "stream",
     "text": [
      "Enter your index number : 4\n"
     ]
    },
    {
     "name": "stdout",
     "output_type": "stream",
     "text": [
      "Your key value : 5\n"
     ]
    }
   ],
   "source": [
    "# import loggging for logging all data\n",
    "import logging\n",
    "# Set log file\n",
    "logging.basicConfig(filename=\"lookuperror.log\", level=logging.INFO , format = \"%(asctime)s %(message)s\" )\n",
    "\n",
    "# KeyError Example:-\n",
    "\n",
    "# Create a dictionary\n",
    "dicts = {\"name\" : \"Shankha\", \"email\" : \"shankha@gmail.com\", \"age\" : 22}\n",
    "\n",
    "# Make a method\n",
    "def example_key():\n",
    "    # Set user choice\n",
    "    us = input(\"Enter what type of data you want :\").lower()\n",
    "    # Now pass through \"try\" block\n",
    "    try :\n",
    "        result_dicts = dicts[us] # print dictionary result\n",
    "    # Let handle the expected exceptions\n",
    "    except KeyError as k :\n",
    "        logging.error(k) # log error data\n",
    "        print(\"Error: This key is not found.\")\n",
    "    else :\n",
    "        logging.info(f\"This is your key value {result_dicts}\") # log information \n",
    "        print(f\"Your key value : {result_dicts}\")\n",
    "\n",
    "# IndexError Example:-\n",
    "\n",
    "# Create a list \n",
    "ls = [1,2,3,4,5]\n",
    "\n",
    "# Make a method\n",
    "def example_index():\n",
    "    # Set user choice\n",
    "    us1 = int(input(\"Enter your index number :\"))\n",
    "    # Now pass through \"try\" block\n",
    "    try :\n",
    "        result_ls = ls[us1] # print list result\n",
    "    # Let handle the expected exceptions\n",
    "    except IndexError as k :\n",
    "        logging.error(k) # log error data\n",
    "        print(\"Error: This key is not found. \")\n",
    "    else :\n",
    "        logging.info(f\"This is your key value {result_ls}\") # log information \n",
    "        print(f\"Your key value : {result_ls}\") \n",
    "\n",
    "# Make Safety Exception Handling\n",
    "try :\n",
    "    # Call error functions\n",
    "    example_key() # \n",
    "    example_index()\n",
    "except Exception as e :\n",
    "    print(\"There is an Error, \", e)\n",
    "    logging.error(e)\n",
    "finally :\n",
    "    logging.info(\"Excution successfully completed.\")"
   ]
  },
  {
   "cell_type": "markdown",
   "id": "89121ab1-b4e1-47f6-93ef-99fa1b073207",
   "metadata": {},
   "source": [
    "#### Once Again for mark the Error\n"
   ]
  },
  {
   "cell_type": "code",
   "execution_count": 23,
   "id": "8f048f7a-eca0-47ab-8d7d-c4e0a482e862",
   "metadata": {},
   "outputs": [
    {
     "name": "stdin",
     "output_type": "stream",
     "text": [
      "Enter what type of data you want : number\n"
     ]
    },
    {
     "name": "stdout",
     "output_type": "stream",
     "text": [
      "Error: This key is not found.\n"
     ]
    },
    {
     "name": "stdin",
     "output_type": "stream",
     "text": [
      "Enter your index number : 6\n"
     ]
    },
    {
     "name": "stdout",
     "output_type": "stream",
     "text": [
      "Error: This key is not found. \n"
     ]
    }
   ],
   "source": [
    "\n",
    "# Make Safety Exception Handling\n",
    "try :\n",
    "    # Call error functions\n",
    "    example_key() # \n",
    "    example_index()\n",
    "except Exception as e :\n",
    "    print(\"There is an Error, \", e)\n",
    "    logging.error(e)\n",
    "finally :\n",
    "    logging.info(\"Excution successfully completed.\")\n",
    "    logging.shutdown()"
   ]
  },
  {
   "cell_type": "markdown",
   "id": "1418fb3c-8cf8-496d-831d-a7fd7b5ede33",
   "metadata": {},
   "source": [
    "### Q5. Explain ImportError. What is ModuleNotFoundError?"
   ]
  },
  {
   "cell_type": "markdown",
   "id": "f591ec86-39b0-49a8-941a-2d0b4d6f4743",
   "metadata": {},
   "source": [
    "#### ImportError \n",
    "_ImportError is a general exception for import-related issues. It occurs while importing a module it does not exist or can't be found or contains an error._\n",
    "\n",
    "#### ModuleNotFoundError\n",
    "_ModuleNotFoundError is type of \"ImportError\" that specifically tells that Python couldn't find the module you want. It is more specific about what is missing._"
   ]
  },
  {
   "cell_type": "markdown",
   "id": "0e5dd583-83b4-41f9-949b-a340be212a33",
   "metadata": {},
   "source": [
    "### Q6. List down some best practices for exception handling in python."
   ]
  },
  {
   "cell_type": "markdown",
   "id": "7f516ce8-43db-4c35-9c64-1a1f5421334e",
   "metadata": {},
   "source": [
    "_There is some best practices for exception handling in python -\n",
    "- Be specific in cathing exceptions.\n",
    "- Use meaningful error messages.\n",
    "- clean up resources when all done.\n",
    "- Always try to use DRY(Don't Repeat Yourself) principle."
   ]
  }
 ],
 "metadata": {
  "kernelspec": {
   "display_name": "Python 3 (ipykernel)",
   "language": "python",
   "name": "python3"
  },
  "language_info": {
   "codemirror_mode": {
    "name": "ipython",
    "version": 3
   },
   "file_extension": ".py",
   "mimetype": "text/x-python",
   "name": "python",
   "nbconvert_exporter": "python",
   "pygments_lexer": "ipython3",
   "version": "3.10.8"
  }
 },
 "nbformat": 4,
 "nbformat_minor": 5
}
